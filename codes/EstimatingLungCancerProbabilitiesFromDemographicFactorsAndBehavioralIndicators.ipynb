{
 "cells": [
  {
   "cell_type": "markdown",
   "id": "7f4f017d-8a34-4bc2-9918-34e2598ac67b",
   "metadata": {},
   "source": [
    "***\n",
    "# Model Deployment : Estimating Lung Cancer Probabilities From Demographic Factors And Behavioral Indicators"
   ]
  },
  {
   "cell_type": "markdown",
   "id": "94b4377e-cdef-47d1-8e17-06af09e7a92c",
   "metadata": {},
   "source": [
    "***\n",
    "### John Pauline Pineda <br> <br> *August 17, 2024*\n",
    "***"
   ]
  },
  {
   "cell_type": "markdown",
   "id": "7fbbd9f9-841c-423c-98e9-bdc7f821255e",
   "metadata": {},
   "source": [
    "* [**1. Table of Contents**](#TOC)\n",
    "    * [1.1 Data Background](#1.1)\n",
    "    * [1.2 Data Description](#1.2)\n",
    "    * [1.3 Data Quality Assessment](#1.3)\n",
    "    * [1.4 Data Preprocessing](#1.4)\n",
    "    * [1.5 Data Exploration](#1.5)\n",
    "        * [1.5.1 Exploratory Data Analysis](#1.5.1)\n",
    "        * [1.5.2 Hypothesis Testing](#1.5.2)\n",
    "    * [1.6 Predictive Model Development](#1.6)\n",
    "        * [1.6.1 Pre-Modelling Data Preparation](#1.6.1)\n",
    "        * [1.6.2 Data Splitting](#1.6.2)\n",
    "        * [1.6.3 Modelling Pipeline Development](#1.6.3)\n",
    "        * [1.6.4 Model Hyperparameter Tuning](#1.6.4)\n",
    "        * [1.6.5 Model Validation](#1.6.5)\n",
    "        * [1.6.6 Model Testing](#1.6.6)\n",
    "        * [1.6.7 Model Inference](#1.6.7)\n",
    "    * [1.7 Consolidated Findings](#1.7)\n",
    "* [**2. Summary**](#Summary)   \n",
    "* [**3. References**](#References)\n",
    "\n",
    "***"
   ]
  },
  {
   "cell_type": "markdown",
   "id": "2041716a-0ef9-4a88-afff-0f0ae04e735a",
   "metadata": {},
   "source": [
    "# 1. Table of Contents <a class=\"anchor\" id=\"TOC\"></a>"
   ]
  },
  {
   "cell_type": "markdown",
   "id": "b331210a-c8cf-40df-94fa-a5a8cd5c413d",
   "metadata": {},
   "source": [
    "## 1.1. Data Background <a class=\"anchor\" id=\"1.1\"></a>"
   ]
  },
  {
   "cell_type": "markdown",
   "id": "4f1802a6-ebc1-4ae4-be64-e38550f9f3ed",
   "metadata": {},
   "source": [
    "## 1.2. Data Description <a class=\"anchor\" id=\"1.2\"></a>"
   ]
  },
  {
   "cell_type": "code",
   "execution_count": 1,
   "id": "60222271-9c81-4793-a1f1-c5fb4814d1eb",
   "metadata": {
    "tags": []
   },
   "outputs": [],
   "source": [
    "##################################\n",
    "# Loading Python Libraries\n",
    "##################################\n",
    "import numpy as np\n",
    "import pandas as pd\n",
    "import seaborn as sns\n",
    "import matplotlib.pyplot as plt\n",
    "import os\n",
    "import itertools\n",
    "%matplotlib inline\n",
    "import shap\n",
    "\n",
    "from operator import add,mul,truediv\n",
    "from sklearn.experimental import enable_iterative_imputer\n",
    "from sklearn.impute import IterativeImputer\n",
    "from sklearn.linear_model import LinearRegression\n",
    "from sklearn.preprocessing import PowerTransformer\n",
    "from sklearn.preprocessing import StandardScaler\n",
    "from scipy import stats\n",
    "from scipy.stats import pointbiserialr\n",
    "\n",
    "from sklearn.linear_model import LogisticRegression\n",
    "from sklearn.tree import DecisionTreeClassifier\n",
    "from sklearn.ensemble import RandomForestClassifier\n",
    "from sklearn.svm import SVC\n",
    "from sklearn.metrics import accuracy_score, precision_score, recall_score, f1_score, roc_auc_score, confusion_matrix, ConfusionMatrixDisplay\n",
    "from sklearn.model_selection import train_test_split, GridSearchCV\n",
    "from sklearn.ensemble import StackingClassifier"
   ]
  },
  {
   "cell_type": "code",
   "execution_count": 144,
   "id": "9f0d2d54-8f75-4896-8545-0658487eb046",
   "metadata": {},
   "outputs": [],
   "source": [
    "##################################\n",
    "# Defining file paths\n",
    "##################################\n",
    "DATASETS_ORIGINAL_PATH = r\"datasets\\original\"\n",
    "DATASETS_PREPROCESSED_PATH = r\"datasets\\preprocessed\"\n",
    "DATASETS_FINAL_PATH = r\"datasets\\final\\complete\"\n",
    "DATASETS_FINAL_TRAIN_FEATURES_PATH = r\"datasets\\final\\train\\features\"\n",
    "DATASETS_FINAL_TRAIN_TARGET_PATH = r\"datasets\\final\\train\\target\"\n",
    "DATASETS_FINAL_VALIDATION_FEATURES_PATH = r\"datasets\\final\\validation\\features\"\n",
    "DATASETS_FINAL_VALIDATION_TARGET_PATH = r\"datasets\\final\\validation\\target\"\n",
    "DATASETS_FINAL_TEST_FEATURES_PATH = r\"datasets\\final\\test\\features\"\n",
    "DATASETS_FINAL_TEST_TARGET_PATH = r\"datasets\\final\\test\\target\"\n",
    "MODELS_PATH = r\"models\""
   ]
  },
  {
   "cell_type": "code",
   "execution_count": 3,
   "id": "fe614816-a168-4467-af2f-54cfbfd8547b",
   "metadata": {},
   "outputs": [],
   "source": [
    "##################################\n",
    "# Loading the dataset\n",
    "# from the DATASETS_ORIGINAL_PATH\n",
    "##################################\n",
    "lung_cancer = pd.read_csv(os.path.join(\"..\", DATASETS_ORIGINAL_PATH, \"lung_cancer.csv\"))"
   ]
  },
  {
   "cell_type": "code",
   "execution_count": 4,
   "id": "d5feeef0-c575-4170-934b-c82a8b3cc1fb",
   "metadata": {},
   "outputs": [
    {
     "name": "stdout",
     "output_type": "stream",
     "text": [
      "Dataset Dimensions: \n"
     ]
    },
    {
     "data": {
      "text/plain": [
       "(309, 16)"
      ]
     },
     "metadata": {},
     "output_type": "display_data"
    }
   ],
   "source": [
    "##################################\n",
    "# Performing a general exploration of the dataset\n",
    "##################################\n",
    "print('Dataset Dimensions: ')\n",
    "display(lung_cancer.shape)"
   ]
  },
  {
   "cell_type": "code",
   "execution_count": 5,
   "id": "3e814f62-1530-493b-a46a-b6955ad4f05a",
   "metadata": {},
   "outputs": [
    {
     "name": "stdout",
     "output_type": "stream",
     "text": [
      "Column Names and Data Types:\n"
     ]
    },
    {
     "data": {
      "text/plain": [
       "GENDER                   object\n",
       "AGE                       int64\n",
       "SMOKING                   int64\n",
       "YELLOW_FINGERS            int64\n",
       "ANXIETY                   int64\n",
       "PEER_PRESSURE             int64\n",
       "CHRONIC DISEASE           int64\n",
       "FATIGUE                   int64\n",
       "ALLERGY                   int64\n",
       "WHEEZING                  int64\n",
       "ALCOHOL CONSUMING         int64\n",
       "COUGHING                  int64\n",
       "SHORTNESS OF BREATH       int64\n",
       "SWALLOWING DIFFICULTY     int64\n",
       "CHEST PAIN                int64\n",
       "LUNG_CANCER              object\n",
       "dtype: object"
      ]
     },
     "metadata": {},
     "output_type": "display_data"
    }
   ],
   "source": [
    "##################################\n",
    "# Listing the column names and data types\n",
    "##################################\n",
    "print('Column Names and Data Types:')\n",
    "display(lung_cancer.dtypes)"
   ]
  },
  {
   "cell_type": "code",
   "execution_count": 6,
   "id": "efe08275-9402-4001-8713-adef61f8a921",
   "metadata": {},
   "outputs": [
    {
     "data": {
      "text/html": [
       "<div>\n",
       "<style scoped>\n",
       "    .dataframe tbody tr th:only-of-type {\n",
       "        vertical-align: middle;\n",
       "    }\n",
       "\n",
       "    .dataframe tbody tr th {\n",
       "        vertical-align: top;\n",
       "    }\n",
       "\n",
       "    .dataframe thead th {\n",
       "        text-align: right;\n",
       "    }\n",
       "</style>\n",
       "<table border=\"1\" class=\"dataframe\">\n",
       "  <thead>\n",
       "    <tr style=\"text-align: right;\">\n",
       "      <th></th>\n",
       "      <th>GENDER</th>\n",
       "      <th>AGE</th>\n",
       "      <th>SMOKING</th>\n",
       "      <th>YELLOW_FINGERS</th>\n",
       "      <th>ANXIETY</th>\n",
       "      <th>PEER_PRESSURE</th>\n",
       "      <th>CHRONIC DISEASE</th>\n",
       "      <th>FATIGUE</th>\n",
       "      <th>ALLERGY</th>\n",
       "      <th>WHEEZING</th>\n",
       "      <th>ALCOHOL CONSUMING</th>\n",
       "      <th>COUGHING</th>\n",
       "      <th>SHORTNESS OF BREATH</th>\n",
       "      <th>SWALLOWING DIFFICULTY</th>\n",
       "      <th>CHEST PAIN</th>\n",
       "      <th>LUNG_CANCER</th>\n",
       "    </tr>\n",
       "  </thead>\n",
       "  <tbody>\n",
       "    <tr>\n",
       "      <th>0</th>\n",
       "      <td>M</td>\n",
       "      <td>69</td>\n",
       "      <td>1</td>\n",
       "      <td>2</td>\n",
       "      <td>2</td>\n",
       "      <td>1</td>\n",
       "      <td>1</td>\n",
       "      <td>2</td>\n",
       "      <td>1</td>\n",
       "      <td>2</td>\n",
       "      <td>2</td>\n",
       "      <td>2</td>\n",
       "      <td>2</td>\n",
       "      <td>2</td>\n",
       "      <td>2</td>\n",
       "      <td>YES</td>\n",
       "    </tr>\n",
       "    <tr>\n",
       "      <th>1</th>\n",
       "      <td>M</td>\n",
       "      <td>74</td>\n",
       "      <td>2</td>\n",
       "      <td>1</td>\n",
       "      <td>1</td>\n",
       "      <td>1</td>\n",
       "      <td>2</td>\n",
       "      <td>2</td>\n",
       "      <td>2</td>\n",
       "      <td>1</td>\n",
       "      <td>1</td>\n",
       "      <td>1</td>\n",
       "      <td>2</td>\n",
       "      <td>2</td>\n",
       "      <td>2</td>\n",
       "      <td>YES</td>\n",
       "    </tr>\n",
       "    <tr>\n",
       "      <th>2</th>\n",
       "      <td>F</td>\n",
       "      <td>59</td>\n",
       "      <td>1</td>\n",
       "      <td>1</td>\n",
       "      <td>1</td>\n",
       "      <td>2</td>\n",
       "      <td>1</td>\n",
       "      <td>2</td>\n",
       "      <td>1</td>\n",
       "      <td>2</td>\n",
       "      <td>1</td>\n",
       "      <td>2</td>\n",
       "      <td>2</td>\n",
       "      <td>1</td>\n",
       "      <td>2</td>\n",
       "      <td>NO</td>\n",
       "    </tr>\n",
       "    <tr>\n",
       "      <th>3</th>\n",
       "      <td>M</td>\n",
       "      <td>63</td>\n",
       "      <td>2</td>\n",
       "      <td>2</td>\n",
       "      <td>2</td>\n",
       "      <td>1</td>\n",
       "      <td>1</td>\n",
       "      <td>1</td>\n",
       "      <td>1</td>\n",
       "      <td>1</td>\n",
       "      <td>2</td>\n",
       "      <td>1</td>\n",
       "      <td>1</td>\n",
       "      <td>2</td>\n",
       "      <td>2</td>\n",
       "      <td>NO</td>\n",
       "    </tr>\n",
       "    <tr>\n",
       "      <th>4</th>\n",
       "      <td>F</td>\n",
       "      <td>63</td>\n",
       "      <td>1</td>\n",
       "      <td>2</td>\n",
       "      <td>1</td>\n",
       "      <td>1</td>\n",
       "      <td>1</td>\n",
       "      <td>1</td>\n",
       "      <td>1</td>\n",
       "      <td>2</td>\n",
       "      <td>1</td>\n",
       "      <td>2</td>\n",
       "      <td>2</td>\n",
       "      <td>1</td>\n",
       "      <td>1</td>\n",
       "      <td>NO</td>\n",
       "    </tr>\n",
       "  </tbody>\n",
       "</table>\n",
       "</div>"
      ],
      "text/plain": [
       "  GENDER  AGE  SMOKING  YELLOW_FINGERS  ANXIETY  PEER_PRESSURE  \\\n",
       "0      M   69        1               2        2              1   \n",
       "1      M   74        2               1        1              1   \n",
       "2      F   59        1               1        1              2   \n",
       "3      M   63        2               2        2              1   \n",
       "4      F   63        1               2        1              1   \n",
       "\n",
       "   CHRONIC DISEASE  FATIGUE   ALLERGY   WHEEZING  ALCOHOL CONSUMING  COUGHING  \\\n",
       "0                1         2         1         2                  2         2   \n",
       "1                2         2         2         1                  1         1   \n",
       "2                1         2         1         2                  1         2   \n",
       "3                1         1         1         1                  2         1   \n",
       "4                1         1         1         2                  1         2   \n",
       "\n",
       "   SHORTNESS OF BREATH  SWALLOWING DIFFICULTY  CHEST PAIN LUNG_CANCER  \n",
       "0                    2                      2           2         YES  \n",
       "1                    2                      2           2         YES  \n",
       "2                    2                      1           2          NO  \n",
       "3                    1                      2           2          NO  \n",
       "4                    2                      1           1          NO  "
      ]
     },
     "execution_count": 6,
     "metadata": {},
     "output_type": "execute_result"
    }
   ],
   "source": [
    "##################################\n",
    "# Taking a snapshot of the dataset\n",
    "##################################\n",
    "lung_cancer.head()"
   ]
  },
  {
   "cell_type": "code",
   "execution_count": 7,
   "id": "096c04b2-3b8a-4b65-a7f9-498b8ccdabae",
   "metadata": {
    "tags": []
   },
   "outputs": [],
   "source": [
    "##################################\n",
    "# Setting the levels of the dichotomous categorical variables\n",
    "# to boolean values\n",
    "##################################\n",
    "lung_cancer[['GENDER','LUNG_CANCER']] = lung_cancer[['GENDER','LUNG_CANCER']].astype('category')\n",
    "lung_cancer['GENDER'] = lung_cancer['GENDER'].cat.set_categories(['F', 'M'], ordered=True)\n",
    "lung_cancer['LUNG_CANCER'] = lung_cancer['LUNG_CANCER'].cat.set_categories(['NO', 'YES'], ordered=True)\n",
    "lung_cancer.iloc[:,2:15] = lung_cancer.iloc[:,2:15].replace({1: 'Absent', 2: 'Present'})"
   ]
  },
  {
   "cell_type": "code",
   "execution_count": 8,
   "id": "93798ffe-f00b-466a-b31b-ba924e0d42d0",
   "metadata": {
    "tags": []
   },
   "outputs": [
    {
     "name": "stdout",
     "output_type": "stream",
     "text": [
      "Column Names and Data Types:\n"
     ]
    },
    {
     "data": {
      "text/plain": [
       "GENDER                   category\n",
       "AGE                         int64\n",
       "SMOKING                    object\n",
       "YELLOW_FINGERS             object\n",
       "ANXIETY                    object\n",
       "PEER_PRESSURE              object\n",
       "CHRONIC DISEASE            object\n",
       "FATIGUE                    object\n",
       "ALLERGY                    object\n",
       "WHEEZING                   object\n",
       "ALCOHOL CONSUMING          object\n",
       "COUGHING                   object\n",
       "SHORTNESS OF BREATH        object\n",
       "SWALLOWING DIFFICULTY      object\n",
       "CHEST PAIN                 object\n",
       "LUNG_CANCER              category\n",
       "dtype: object"
      ]
     },
     "metadata": {},
     "output_type": "display_data"
    }
   ],
   "source": [
    "##################################\n",
    "# Listing the column names and data types\n",
    "##################################\n",
    "print('Column Names and Data Types:')\n",
    "display(lung_cancer.dtypes)"
   ]
  },
  {
   "cell_type": "code",
   "execution_count": 9,
   "id": "845df16d-3724-4b81-9595-0645313f01a9",
   "metadata": {
    "tags": []
   },
   "outputs": [
    {
     "data": {
      "text/html": [
       "<div>\n",
       "<style scoped>\n",
       "    .dataframe tbody tr th:only-of-type {\n",
       "        vertical-align: middle;\n",
       "    }\n",
       "\n",
       "    .dataframe tbody tr th {\n",
       "        vertical-align: top;\n",
       "    }\n",
       "\n",
       "    .dataframe thead th {\n",
       "        text-align: right;\n",
       "    }\n",
       "</style>\n",
       "<table border=\"1\" class=\"dataframe\">\n",
       "  <thead>\n",
       "    <tr style=\"text-align: right;\">\n",
       "      <th></th>\n",
       "      <th>GENDER</th>\n",
       "      <th>AGE</th>\n",
       "      <th>SMOKING</th>\n",
       "      <th>YELLOW_FINGERS</th>\n",
       "      <th>ANXIETY</th>\n",
       "      <th>PEER_PRESSURE</th>\n",
       "      <th>CHRONIC DISEASE</th>\n",
       "      <th>FATIGUE</th>\n",
       "      <th>ALLERGY</th>\n",
       "      <th>WHEEZING</th>\n",
       "      <th>ALCOHOL CONSUMING</th>\n",
       "      <th>COUGHING</th>\n",
       "      <th>SHORTNESS OF BREATH</th>\n",
       "      <th>SWALLOWING DIFFICULTY</th>\n",
       "      <th>CHEST PAIN</th>\n",
       "      <th>LUNG_CANCER</th>\n",
       "    </tr>\n",
       "  </thead>\n",
       "  <tbody>\n",
       "    <tr>\n",
       "      <th>0</th>\n",
       "      <td>M</td>\n",
       "      <td>69</td>\n",
       "      <td>Absent</td>\n",
       "      <td>Present</td>\n",
       "      <td>Present</td>\n",
       "      <td>Absent</td>\n",
       "      <td>Absent</td>\n",
       "      <td>Present</td>\n",
       "      <td>Absent</td>\n",
       "      <td>Present</td>\n",
       "      <td>Present</td>\n",
       "      <td>Present</td>\n",
       "      <td>Present</td>\n",
       "      <td>Present</td>\n",
       "      <td>Present</td>\n",
       "      <td>YES</td>\n",
       "    </tr>\n",
       "    <tr>\n",
       "      <th>1</th>\n",
       "      <td>M</td>\n",
       "      <td>74</td>\n",
       "      <td>Present</td>\n",
       "      <td>Absent</td>\n",
       "      <td>Absent</td>\n",
       "      <td>Absent</td>\n",
       "      <td>Present</td>\n",
       "      <td>Present</td>\n",
       "      <td>Present</td>\n",
       "      <td>Absent</td>\n",
       "      <td>Absent</td>\n",
       "      <td>Absent</td>\n",
       "      <td>Present</td>\n",
       "      <td>Present</td>\n",
       "      <td>Present</td>\n",
       "      <td>YES</td>\n",
       "    </tr>\n",
       "    <tr>\n",
       "      <th>2</th>\n",
       "      <td>F</td>\n",
       "      <td>59</td>\n",
       "      <td>Absent</td>\n",
       "      <td>Absent</td>\n",
       "      <td>Absent</td>\n",
       "      <td>Present</td>\n",
       "      <td>Absent</td>\n",
       "      <td>Present</td>\n",
       "      <td>Absent</td>\n",
       "      <td>Present</td>\n",
       "      <td>Absent</td>\n",
       "      <td>Present</td>\n",
       "      <td>Present</td>\n",
       "      <td>Absent</td>\n",
       "      <td>Present</td>\n",
       "      <td>NO</td>\n",
       "    </tr>\n",
       "    <tr>\n",
       "      <th>3</th>\n",
       "      <td>M</td>\n",
       "      <td>63</td>\n",
       "      <td>Present</td>\n",
       "      <td>Present</td>\n",
       "      <td>Present</td>\n",
       "      <td>Absent</td>\n",
       "      <td>Absent</td>\n",
       "      <td>Absent</td>\n",
       "      <td>Absent</td>\n",
       "      <td>Absent</td>\n",
       "      <td>Present</td>\n",
       "      <td>Absent</td>\n",
       "      <td>Absent</td>\n",
       "      <td>Present</td>\n",
       "      <td>Present</td>\n",
       "      <td>NO</td>\n",
       "    </tr>\n",
       "    <tr>\n",
       "      <th>4</th>\n",
       "      <td>F</td>\n",
       "      <td>63</td>\n",
       "      <td>Absent</td>\n",
       "      <td>Present</td>\n",
       "      <td>Absent</td>\n",
       "      <td>Absent</td>\n",
       "      <td>Absent</td>\n",
       "      <td>Absent</td>\n",
       "      <td>Absent</td>\n",
       "      <td>Present</td>\n",
       "      <td>Absent</td>\n",
       "      <td>Present</td>\n",
       "      <td>Present</td>\n",
       "      <td>Absent</td>\n",
       "      <td>Absent</td>\n",
       "      <td>NO</td>\n",
       "    </tr>\n",
       "  </tbody>\n",
       "</table>\n",
       "</div>"
      ],
      "text/plain": [
       "  GENDER  AGE  SMOKING YELLOW_FINGERS  ANXIETY PEER_PRESSURE CHRONIC DISEASE  \\\n",
       "0      M   69   Absent        Present  Present        Absent          Absent   \n",
       "1      M   74  Present         Absent   Absent        Absent         Present   \n",
       "2      F   59   Absent         Absent   Absent       Present          Absent   \n",
       "3      M   63  Present        Present  Present        Absent          Absent   \n",
       "4      F   63   Absent        Present   Absent        Absent          Absent   \n",
       "\n",
       "  FATIGUE  ALLERGY  WHEEZING ALCOHOL CONSUMING COUGHING SHORTNESS OF BREATH  \\\n",
       "0  Present   Absent  Present           Present  Present             Present   \n",
       "1  Present  Present   Absent            Absent   Absent             Present   \n",
       "2  Present   Absent  Present            Absent  Present             Present   \n",
       "3   Absent   Absent   Absent           Present   Absent              Absent   \n",
       "4   Absent   Absent  Present            Absent  Present             Present   \n",
       "\n",
       "  SWALLOWING DIFFICULTY CHEST PAIN LUNG_CANCER  \n",
       "0               Present    Present         YES  \n",
       "1               Present    Present         YES  \n",
       "2                Absent    Present          NO  \n",
       "3               Present    Present          NO  \n",
       "4                Absent     Absent          NO  "
      ]
     },
     "execution_count": 9,
     "metadata": {},
     "output_type": "execute_result"
    }
   ],
   "source": [
    "##################################\n",
    "# Taking a snapshot of the dataset\n",
    "##################################\n",
    "lung_cancer.head()"
   ]
  },
  {
   "cell_type": "code",
   "execution_count": 10,
   "id": "a5689c88-c967-4748-85ce-8cfb9d3cb908",
   "metadata": {
    "tags": []
   },
   "outputs": [
    {
     "name": "stdout",
     "output_type": "stream",
     "text": [
      "Numeric Variable Summary:\n"
     ]
    },
    {
     "data": {
      "text/html": [
       "<div>\n",
       "<style scoped>\n",
       "    .dataframe tbody tr th:only-of-type {\n",
       "        vertical-align: middle;\n",
       "    }\n",
       "\n",
       "    .dataframe tbody tr th {\n",
       "        vertical-align: top;\n",
       "    }\n",
       "\n",
       "    .dataframe thead th {\n",
       "        text-align: right;\n",
       "    }\n",
       "</style>\n",
       "<table border=\"1\" class=\"dataframe\">\n",
       "  <thead>\n",
       "    <tr style=\"text-align: right;\">\n",
       "      <th></th>\n",
       "      <th>count</th>\n",
       "      <th>mean</th>\n",
       "      <th>std</th>\n",
       "      <th>min</th>\n",
       "      <th>25%</th>\n",
       "      <th>50%</th>\n",
       "      <th>75%</th>\n",
       "      <th>max</th>\n",
       "    </tr>\n",
       "  </thead>\n",
       "  <tbody>\n",
       "    <tr>\n",
       "      <th>AGE</th>\n",
       "      <td>309.0</td>\n",
       "      <td>62.673139</td>\n",
       "      <td>8.210301</td>\n",
       "      <td>21.0</td>\n",
       "      <td>57.0</td>\n",
       "      <td>62.0</td>\n",
       "      <td>69.0</td>\n",
       "      <td>87.0</td>\n",
       "    </tr>\n",
       "  </tbody>\n",
       "</table>\n",
       "</div>"
      ],
      "text/plain": [
       "     count       mean       std   min   25%   50%   75%   max\n",
       "AGE  309.0  62.673139  8.210301  21.0  57.0  62.0  69.0  87.0"
      ]
     },
     "metadata": {},
     "output_type": "display_data"
    }
   ],
   "source": [
    "##################################\n",
    "# Performing a general exploration \n",
    "# of the numeric variables\n",
    "##################################\n",
    "print('Numeric Variable Summary:')\n",
    "display(lung_cancer.describe(include='number').transpose())"
   ]
  },
  {
   "cell_type": "code",
   "execution_count": 11,
   "id": "21ac65bd-8518-450b-af79-99e9983c47d3",
   "metadata": {
    "tags": []
   },
   "outputs": [
    {
     "name": "stdout",
     "output_type": "stream",
     "text": [
      "Categorical Variable Summary:\n"
     ]
    },
    {
     "data": {
      "text/html": [
       "<div>\n",
       "<style scoped>\n",
       "    .dataframe tbody tr th:only-of-type {\n",
       "        vertical-align: middle;\n",
       "    }\n",
       "\n",
       "    .dataframe tbody tr th {\n",
       "        vertical-align: top;\n",
       "    }\n",
       "\n",
       "    .dataframe thead th {\n",
       "        text-align: right;\n",
       "    }\n",
       "</style>\n",
       "<table border=\"1\" class=\"dataframe\">\n",
       "  <thead>\n",
       "    <tr style=\"text-align: right;\">\n",
       "      <th></th>\n",
       "      <th>count</th>\n",
       "      <th>unique</th>\n",
       "      <th>top</th>\n",
       "      <th>freq</th>\n",
       "    </tr>\n",
       "  </thead>\n",
       "  <tbody>\n",
       "    <tr>\n",
       "      <th>GENDER</th>\n",
       "      <td>309</td>\n",
       "      <td>2</td>\n",
       "      <td>M</td>\n",
       "      <td>162</td>\n",
       "    </tr>\n",
       "    <tr>\n",
       "      <th>SMOKING</th>\n",
       "      <td>309</td>\n",
       "      <td>2</td>\n",
       "      <td>Present</td>\n",
       "      <td>174</td>\n",
       "    </tr>\n",
       "    <tr>\n",
       "      <th>YELLOW_FINGERS</th>\n",
       "      <td>309</td>\n",
       "      <td>2</td>\n",
       "      <td>Present</td>\n",
       "      <td>176</td>\n",
       "    </tr>\n",
       "    <tr>\n",
       "      <th>ANXIETY</th>\n",
       "      <td>309</td>\n",
       "      <td>2</td>\n",
       "      <td>Absent</td>\n",
       "      <td>155</td>\n",
       "    </tr>\n",
       "    <tr>\n",
       "      <th>PEER_PRESSURE</th>\n",
       "      <td>309</td>\n",
       "      <td>2</td>\n",
       "      <td>Present</td>\n",
       "      <td>155</td>\n",
       "    </tr>\n",
       "    <tr>\n",
       "      <th>CHRONIC DISEASE</th>\n",
       "      <td>309</td>\n",
       "      <td>2</td>\n",
       "      <td>Present</td>\n",
       "      <td>156</td>\n",
       "    </tr>\n",
       "    <tr>\n",
       "      <th>FATIGUE</th>\n",
       "      <td>309</td>\n",
       "      <td>2</td>\n",
       "      <td>Present</td>\n",
       "      <td>208</td>\n",
       "    </tr>\n",
       "    <tr>\n",
       "      <th>ALLERGY</th>\n",
       "      <td>309</td>\n",
       "      <td>2</td>\n",
       "      <td>Present</td>\n",
       "      <td>172</td>\n",
       "    </tr>\n",
       "    <tr>\n",
       "      <th>WHEEZING</th>\n",
       "      <td>309</td>\n",
       "      <td>2</td>\n",
       "      <td>Present</td>\n",
       "      <td>172</td>\n",
       "    </tr>\n",
       "    <tr>\n",
       "      <th>ALCOHOL CONSUMING</th>\n",
       "      <td>309</td>\n",
       "      <td>2</td>\n",
       "      <td>Present</td>\n",
       "      <td>172</td>\n",
       "    </tr>\n",
       "    <tr>\n",
       "      <th>COUGHING</th>\n",
       "      <td>309</td>\n",
       "      <td>2</td>\n",
       "      <td>Present</td>\n",
       "      <td>179</td>\n",
       "    </tr>\n",
       "    <tr>\n",
       "      <th>SHORTNESS OF BREATH</th>\n",
       "      <td>309</td>\n",
       "      <td>2</td>\n",
       "      <td>Present</td>\n",
       "      <td>198</td>\n",
       "    </tr>\n",
       "    <tr>\n",
       "      <th>SWALLOWING DIFFICULTY</th>\n",
       "      <td>309</td>\n",
       "      <td>2</td>\n",
       "      <td>Absent</td>\n",
       "      <td>164</td>\n",
       "    </tr>\n",
       "    <tr>\n",
       "      <th>CHEST PAIN</th>\n",
       "      <td>309</td>\n",
       "      <td>2</td>\n",
       "      <td>Present</td>\n",
       "      <td>172</td>\n",
       "    </tr>\n",
       "    <tr>\n",
       "      <th>LUNG_CANCER</th>\n",
       "      <td>309</td>\n",
       "      <td>2</td>\n",
       "      <td>YES</td>\n",
       "      <td>270</td>\n",
       "    </tr>\n",
       "  </tbody>\n",
       "</table>\n",
       "</div>"
      ],
      "text/plain": [
       "                      count unique      top freq\n",
       "GENDER                  309      2        M  162\n",
       "SMOKING                 309      2  Present  174\n",
       "YELLOW_FINGERS          309      2  Present  176\n",
       "ANXIETY                 309      2   Absent  155\n",
       "PEER_PRESSURE           309      2  Present  155\n",
       "CHRONIC DISEASE         309      2  Present  156\n",
       "FATIGUE                 309      2  Present  208\n",
       "ALLERGY                 309      2  Present  172\n",
       "WHEEZING                309      2  Present  172\n",
       "ALCOHOL CONSUMING       309      2  Present  172\n",
       "COUGHING                309      2  Present  179\n",
       "SHORTNESS OF BREATH     309      2  Present  198\n",
       "SWALLOWING DIFFICULTY   309      2   Absent  164\n",
       "CHEST PAIN              309      2  Present  172\n",
       "LUNG_CANCER             309      2      YES  270"
      ]
     },
     "metadata": {},
     "output_type": "display_data"
    }
   ],
   "source": [
    "##################################\n",
    "# Performing a general exploration \n",
    "# of the object and categorical variables\n",
    "##################################\n",
    "print('Categorical Variable Summary:')\n",
    "display(lung_cancer.describe(include=['category','object']).transpose())"
   ]
  },
  {
   "cell_type": "markdown",
   "id": "b0799685-6f48-44dd-b2d5-79828f7f69ec",
   "metadata": {},
   "source": [
    "## 1.3. Data Quality Assessment <a class=\"anchor\" id=\"1.3\"></a>"
   ]
  },
  {
   "cell_type": "code",
   "execution_count": 12,
   "id": "602bc922-2dd2-450f-b90a-b4395ddbf7a8",
   "metadata": {
    "tags": []
   },
   "outputs": [
    {
     "data": {
      "text/plain": [
       "33"
      ]
     },
     "execution_count": 12,
     "metadata": {},
     "output_type": "execute_result"
    }
   ],
   "source": [
    "##################################\n",
    "# Counting the number of duplicated rows\n",
    "##################################\n",
    "lung_cancer.duplicated().sum()"
   ]
  },
  {
   "cell_type": "code",
   "execution_count": 13,
   "id": "1ed5cb0c-1597-4ad1-b699-49b3f0469b46",
   "metadata": {
    "tags": []
   },
   "outputs": [],
   "source": [
    "##################################\n",
    "# Gathering the data types for each column\n",
    "##################################\n",
    "data_type_list = list(lung_cancer.dtypes)"
   ]
  },
  {
   "cell_type": "code",
   "execution_count": 14,
   "id": "77f5c082-8d11-476a-afe2-b3784bd2e97e",
   "metadata": {
    "tags": []
   },
   "outputs": [],
   "source": [
    "##################################\n",
    "# Gathering the variable names for each column\n",
    "##################################\n",
    "variable_name_list = list(lung_cancer.columns)"
   ]
  },
  {
   "cell_type": "code",
   "execution_count": 15,
   "id": "71b81c21-66f1-4961-90e6-bf58a17cd2d8",
   "metadata": {
    "tags": []
   },
   "outputs": [],
   "source": [
    "##################################\n",
    "# Gathering the number of observations for each column\n",
    "##################################\n",
    "row_count_list = list([len(lung_cancer)] * len(lung_cancer.columns))"
   ]
  },
  {
   "cell_type": "code",
   "execution_count": 16,
   "id": "2a56f1e0-ee18-402e-b8a5-bc19d02b90e7",
   "metadata": {
    "tags": []
   },
   "outputs": [],
   "source": [
    "##################################\n",
    "# Gathering the number of missing data for each column\n",
    "##################################\n",
    "null_count_list = list(lung_cancer.isna().sum(axis=0))"
   ]
  },
  {
   "cell_type": "code",
   "execution_count": 17,
   "id": "0b4d7132-5d9a-4ff5-9420-1ae13befc0a3",
   "metadata": {
    "tags": []
   },
   "outputs": [],
   "source": [
    "##################################\n",
    "# Gathering the number of non-missing data for each column\n",
    "##################################\n",
    "non_null_count_list = list(lung_cancer.count())"
   ]
  },
  {
   "cell_type": "code",
   "execution_count": 18,
   "id": "ef4339a9-c45b-4f1e-9066-eccc18586f93",
   "metadata": {
    "tags": []
   },
   "outputs": [],
   "source": [
    "##################################\n",
    "# Gathering the missing data percentage for each column\n",
    "##################################\n",
    "fill_rate_list = map(truediv, non_null_count_list, row_count_list)"
   ]
  },
  {
   "cell_type": "code",
   "execution_count": 19,
   "id": "0e1434d5-bc3d-4ec5-807e-86263b06042c",
   "metadata": {
    "tags": []
   },
   "outputs": [
    {
     "data": {
      "text/html": [
       "<div>\n",
       "<style scoped>\n",
       "    .dataframe tbody tr th:only-of-type {\n",
       "        vertical-align: middle;\n",
       "    }\n",
       "\n",
       "    .dataframe tbody tr th {\n",
       "        vertical-align: top;\n",
       "    }\n",
       "\n",
       "    .dataframe thead th {\n",
       "        text-align: right;\n",
       "    }\n",
       "</style>\n",
       "<table border=\"1\" class=\"dataframe\">\n",
       "  <thead>\n",
       "    <tr style=\"text-align: right;\">\n",
       "      <th></th>\n",
       "      <th>Column.Name</th>\n",
       "      <th>Column.Type</th>\n",
       "      <th>Row.Count</th>\n",
       "      <th>Non.Null.Count</th>\n",
       "      <th>Null.Count</th>\n",
       "      <th>Fill.Rate</th>\n",
       "    </tr>\n",
       "  </thead>\n",
       "  <tbody>\n",
       "    <tr>\n",
       "      <th>0</th>\n",
       "      <td>GENDER</td>\n",
       "      <td>category</td>\n",
       "      <td>309</td>\n",
       "      <td>309</td>\n",
       "      <td>0</td>\n",
       "      <td>1.0</td>\n",
       "    </tr>\n",
       "    <tr>\n",
       "      <th>1</th>\n",
       "      <td>AGE</td>\n",
       "      <td>int64</td>\n",
       "      <td>309</td>\n",
       "      <td>309</td>\n",
       "      <td>0</td>\n",
       "      <td>1.0</td>\n",
       "    </tr>\n",
       "    <tr>\n",
       "      <th>2</th>\n",
       "      <td>SMOKING</td>\n",
       "      <td>object</td>\n",
       "      <td>309</td>\n",
       "      <td>309</td>\n",
       "      <td>0</td>\n",
       "      <td>1.0</td>\n",
       "    </tr>\n",
       "    <tr>\n",
       "      <th>3</th>\n",
       "      <td>YELLOW_FINGERS</td>\n",
       "      <td>object</td>\n",
       "      <td>309</td>\n",
       "      <td>309</td>\n",
       "      <td>0</td>\n",
       "      <td>1.0</td>\n",
       "    </tr>\n",
       "    <tr>\n",
       "      <th>4</th>\n",
       "      <td>ANXIETY</td>\n",
       "      <td>object</td>\n",
       "      <td>309</td>\n",
       "      <td>309</td>\n",
       "      <td>0</td>\n",
       "      <td>1.0</td>\n",
       "    </tr>\n",
       "    <tr>\n",
       "      <th>5</th>\n",
       "      <td>PEER_PRESSURE</td>\n",
       "      <td>object</td>\n",
       "      <td>309</td>\n",
       "      <td>309</td>\n",
       "      <td>0</td>\n",
       "      <td>1.0</td>\n",
       "    </tr>\n",
       "    <tr>\n",
       "      <th>6</th>\n",
       "      <td>CHRONIC DISEASE</td>\n",
       "      <td>object</td>\n",
       "      <td>309</td>\n",
       "      <td>309</td>\n",
       "      <td>0</td>\n",
       "      <td>1.0</td>\n",
       "    </tr>\n",
       "    <tr>\n",
       "      <th>7</th>\n",
       "      <td>FATIGUE</td>\n",
       "      <td>object</td>\n",
       "      <td>309</td>\n",
       "      <td>309</td>\n",
       "      <td>0</td>\n",
       "      <td>1.0</td>\n",
       "    </tr>\n",
       "    <tr>\n",
       "      <th>8</th>\n",
       "      <td>ALLERGY</td>\n",
       "      <td>object</td>\n",
       "      <td>309</td>\n",
       "      <td>309</td>\n",
       "      <td>0</td>\n",
       "      <td>1.0</td>\n",
       "    </tr>\n",
       "    <tr>\n",
       "      <th>9</th>\n",
       "      <td>WHEEZING</td>\n",
       "      <td>object</td>\n",
       "      <td>309</td>\n",
       "      <td>309</td>\n",
       "      <td>0</td>\n",
       "      <td>1.0</td>\n",
       "    </tr>\n",
       "    <tr>\n",
       "      <th>10</th>\n",
       "      <td>ALCOHOL CONSUMING</td>\n",
       "      <td>object</td>\n",
       "      <td>309</td>\n",
       "      <td>309</td>\n",
       "      <td>0</td>\n",
       "      <td>1.0</td>\n",
       "    </tr>\n",
       "    <tr>\n",
       "      <th>11</th>\n",
       "      <td>COUGHING</td>\n",
       "      <td>object</td>\n",
       "      <td>309</td>\n",
       "      <td>309</td>\n",
       "      <td>0</td>\n",
       "      <td>1.0</td>\n",
       "    </tr>\n",
       "    <tr>\n",
       "      <th>12</th>\n",
       "      <td>SHORTNESS OF BREATH</td>\n",
       "      <td>object</td>\n",
       "      <td>309</td>\n",
       "      <td>309</td>\n",
       "      <td>0</td>\n",
       "      <td>1.0</td>\n",
       "    </tr>\n",
       "    <tr>\n",
       "      <th>13</th>\n",
       "      <td>SWALLOWING DIFFICULTY</td>\n",
       "      <td>object</td>\n",
       "      <td>309</td>\n",
       "      <td>309</td>\n",
       "      <td>0</td>\n",
       "      <td>1.0</td>\n",
       "    </tr>\n",
       "    <tr>\n",
       "      <th>14</th>\n",
       "      <td>CHEST PAIN</td>\n",
       "      <td>object</td>\n",
       "      <td>309</td>\n",
       "      <td>309</td>\n",
       "      <td>0</td>\n",
       "      <td>1.0</td>\n",
       "    </tr>\n",
       "    <tr>\n",
       "      <th>15</th>\n",
       "      <td>LUNG_CANCER</td>\n",
       "      <td>category</td>\n",
       "      <td>309</td>\n",
       "      <td>309</td>\n",
       "      <td>0</td>\n",
       "      <td>1.0</td>\n",
       "    </tr>\n",
       "  </tbody>\n",
       "</table>\n",
       "</div>"
      ],
      "text/plain": [
       "              Column.Name Column.Type  Row.Count  Non.Null.Count  Null.Count  \\\n",
       "0                  GENDER    category        309             309           0   \n",
       "1                     AGE       int64        309             309           0   \n",
       "2                 SMOKING      object        309             309           0   \n",
       "3          YELLOW_FINGERS      object        309             309           0   \n",
       "4                 ANXIETY      object        309             309           0   \n",
       "5           PEER_PRESSURE      object        309             309           0   \n",
       "6         CHRONIC DISEASE      object        309             309           0   \n",
       "7                FATIGUE       object        309             309           0   \n",
       "8                ALLERGY       object        309             309           0   \n",
       "9                WHEEZING      object        309             309           0   \n",
       "10      ALCOHOL CONSUMING      object        309             309           0   \n",
       "11               COUGHING      object        309             309           0   \n",
       "12    SHORTNESS OF BREATH      object        309             309           0   \n",
       "13  SWALLOWING DIFFICULTY      object        309             309           0   \n",
       "14             CHEST PAIN      object        309             309           0   \n",
       "15            LUNG_CANCER    category        309             309           0   \n",
       "\n",
       "    Fill.Rate  \n",
       "0         1.0  \n",
       "1         1.0  \n",
       "2         1.0  \n",
       "3         1.0  \n",
       "4         1.0  \n",
       "5         1.0  \n",
       "6         1.0  \n",
       "7         1.0  \n",
       "8         1.0  \n",
       "9         1.0  \n",
       "10        1.0  \n",
       "11        1.0  \n",
       "12        1.0  \n",
       "13        1.0  \n",
       "14        1.0  \n",
       "15        1.0  "
      ]
     },
     "metadata": {},
     "output_type": "display_data"
    }
   ],
   "source": [
    "##################################\n",
    "# Formulating the summary\n",
    "# for all columns\n",
    "##################################\n",
    "all_column_quality_summary = pd.DataFrame(zip(variable_name_list,\n",
    "                                              data_type_list,\n",
    "                                              row_count_list,\n",
    "                                              non_null_count_list,\n",
    "                                              null_count_list,\n",
    "                                              fill_rate_list), \n",
    "                                        columns=['Column.Name',\n",
    "                                                 'Column.Type',\n",
    "                                                 'Row.Count',\n",
    "                                                 'Non.Null.Count',\n",
    "                                                 'Null.Count',                                                 \n",
    "                                                 'Fill.Rate'])\n",
    "display(all_column_quality_summary)"
   ]
  },
  {
   "cell_type": "code",
   "execution_count": 20,
   "id": "46ed34de-c242-4e46-97cc-f1dba247721c",
   "metadata": {
    "tags": []
   },
   "outputs": [
    {
     "name": "stdout",
     "output_type": "stream",
     "text": [
      "Number of Columns with Missing Data: 0\n"
     ]
    }
   ],
   "source": [
    "##################################\n",
    "# Counting the number of columns\n",
    "# with Fill.Rate < 1.00\n",
    "##################################\n",
    "print('Number of Columns with Missing Data:', str(len(all_column_quality_summary[(all_column_quality_summary['Fill.Rate']<1)])))"
   ]
  },
  {
   "cell_type": "code",
   "execution_count": 21,
   "id": "ed840910-c89c-40d4-888d-45cd90785f9f",
   "metadata": {
    "tags": []
   },
   "outputs": [],
   "source": [
    "##################################\n",
    "# Identifying the rows\n",
    "# with Fill.Rate < 1.00\n",
    "##################################\n",
    "column_low_fill_rate = all_column_quality_summary[(all_column_quality_summary['Fill.Rate']<1.00)]"
   ]
  },
  {
   "cell_type": "code",
   "execution_count": 22,
   "id": "e02d3e4b-4b00-4c0e-aa73-3f3b1eaecacf",
   "metadata": {
    "tags": []
   },
   "outputs": [],
   "source": [
    "##################################\n",
    "# Gathering the metadata labels for each observation\n",
    "##################################\n",
    "row_metadata_list = lung_cancer.index.values.tolist()"
   ]
  },
  {
   "cell_type": "code",
   "execution_count": 23,
   "id": "569eaa46-e2d2-4982-b743-6810f9a1f83e",
   "metadata": {
    "tags": []
   },
   "outputs": [],
   "source": [
    "##################################\n",
    "# Gathering the number of columns for each observation\n",
    "##################################\n",
    "column_count_list = list([len(lung_cancer.columns)] * len(lung_cancer))"
   ]
  },
  {
   "cell_type": "code",
   "execution_count": 24,
   "id": "460aece0-9804-4827-8f4b-6e17a748f7c9",
   "metadata": {
    "tags": []
   },
   "outputs": [],
   "source": [
    "##################################\n",
    "# Gathering the number of missing data for each row\n",
    "##################################\n",
    "null_row_list = list(lung_cancer.isna().sum(axis=1))"
   ]
  },
  {
   "cell_type": "code",
   "execution_count": 25,
   "id": "3ba35793-2ebf-45e7-aaa3-34d08243df43",
   "metadata": {
    "tags": []
   },
   "outputs": [],
   "source": [
    "##################################\n",
    "# Gathering the missing data percentage for each column\n",
    "##################################\n",
    "missing_rate_list = map(truediv, null_row_list, column_count_list)"
   ]
  },
  {
   "cell_type": "code",
   "execution_count": 26,
   "id": "d3687819-ad22-4ad4-95fb-6b476401c76c",
   "metadata": {
    "tags": []
   },
   "outputs": [
    {
     "data": {
      "text/html": [
       "<div>\n",
       "<style scoped>\n",
       "    .dataframe tbody tr th:only-of-type {\n",
       "        vertical-align: middle;\n",
       "    }\n",
       "\n",
       "    .dataframe tbody tr th {\n",
       "        vertical-align: top;\n",
       "    }\n",
       "\n",
       "    .dataframe thead th {\n",
       "        text-align: right;\n",
       "    }\n",
       "</style>\n",
       "<table border=\"1\" class=\"dataframe\">\n",
       "  <thead>\n",
       "    <tr style=\"text-align: right;\">\n",
       "      <th></th>\n",
       "      <th>Row.Name</th>\n",
       "      <th>Column.Count</th>\n",
       "      <th>Null.Count</th>\n",
       "      <th>Missing.Rate</th>\n",
       "    </tr>\n",
       "  </thead>\n",
       "  <tbody>\n",
       "    <tr>\n",
       "      <th>0</th>\n",
       "      <td>0</td>\n",
       "      <td>16</td>\n",
       "      <td>0</td>\n",
       "      <td>0.0</td>\n",
       "    </tr>\n",
       "    <tr>\n",
       "      <th>1</th>\n",
       "      <td>1</td>\n",
       "      <td>16</td>\n",
       "      <td>0</td>\n",
       "      <td>0.0</td>\n",
       "    </tr>\n",
       "    <tr>\n",
       "      <th>2</th>\n",
       "      <td>2</td>\n",
       "      <td>16</td>\n",
       "      <td>0</td>\n",
       "      <td>0.0</td>\n",
       "    </tr>\n",
       "    <tr>\n",
       "      <th>3</th>\n",
       "      <td>3</td>\n",
       "      <td>16</td>\n",
       "      <td>0</td>\n",
       "      <td>0.0</td>\n",
       "    </tr>\n",
       "    <tr>\n",
       "      <th>4</th>\n",
       "      <td>4</td>\n",
       "      <td>16</td>\n",
       "      <td>0</td>\n",
       "      <td>0.0</td>\n",
       "    </tr>\n",
       "    <tr>\n",
       "      <th>...</th>\n",
       "      <td>...</td>\n",
       "      <td>...</td>\n",
       "      <td>...</td>\n",
       "      <td>...</td>\n",
       "    </tr>\n",
       "    <tr>\n",
       "      <th>304</th>\n",
       "      <td>304</td>\n",
       "      <td>16</td>\n",
       "      <td>0</td>\n",
       "      <td>0.0</td>\n",
       "    </tr>\n",
       "    <tr>\n",
       "      <th>305</th>\n",
       "      <td>305</td>\n",
       "      <td>16</td>\n",
       "      <td>0</td>\n",
       "      <td>0.0</td>\n",
       "    </tr>\n",
       "    <tr>\n",
       "      <th>306</th>\n",
       "      <td>306</td>\n",
       "      <td>16</td>\n",
       "      <td>0</td>\n",
       "      <td>0.0</td>\n",
       "    </tr>\n",
       "    <tr>\n",
       "      <th>307</th>\n",
       "      <td>307</td>\n",
       "      <td>16</td>\n",
       "      <td>0</td>\n",
       "      <td>0.0</td>\n",
       "    </tr>\n",
       "    <tr>\n",
       "      <th>308</th>\n",
       "      <td>308</td>\n",
       "      <td>16</td>\n",
       "      <td>0</td>\n",
       "      <td>0.0</td>\n",
       "    </tr>\n",
       "  </tbody>\n",
       "</table>\n",
       "<p>309 rows × 4 columns</p>\n",
       "</div>"
      ],
      "text/plain": [
       "     Row.Name  Column.Count  Null.Count  Missing.Rate\n",
       "0           0            16           0           0.0\n",
       "1           1            16           0           0.0\n",
       "2           2            16           0           0.0\n",
       "3           3            16           0           0.0\n",
       "4           4            16           0           0.0\n",
       "..        ...           ...         ...           ...\n",
       "304       304            16           0           0.0\n",
       "305       305            16           0           0.0\n",
       "306       306            16           0           0.0\n",
       "307       307            16           0           0.0\n",
       "308       308            16           0           0.0\n",
       "\n",
       "[309 rows x 4 columns]"
      ]
     },
     "metadata": {},
     "output_type": "display_data"
    }
   ],
   "source": [
    "##################################\n",
    "# Exploring the rows\n",
    "# for missing data\n",
    "##################################\n",
    "all_row_quality_summary = pd.DataFrame(zip(row_metadata_list,\n",
    "                                           column_count_list,\n",
    "                                           null_row_list,\n",
    "                                           missing_rate_list), \n",
    "                                        columns=['Row.Name',\n",
    "                                                 'Column.Count',\n",
    "                                                 'Null.Count',                                                 \n",
    "                                                 'Missing.Rate'])\n",
    "display(all_row_quality_summary)"
   ]
  },
  {
   "cell_type": "code",
   "execution_count": 27,
   "id": "53997330-387f-4150-83f5-05922df6f2a3",
   "metadata": {
    "tags": []
   },
   "outputs": [
    {
     "name": "stdout",
     "output_type": "stream",
     "text": [
      "Number of Rows with Missing Data: 0\n"
     ]
    }
   ],
   "source": [
    "##################################\n",
    "# Counting the number of rows\n",
    "# with Fill.Rate < 1.00\n",
    "##################################\n",
    "print('Number of Rows with Missing Data:',str(len(all_row_quality_summary[all_row_quality_summary['Missing.Rate']>0])))"
   ]
  },
  {
   "cell_type": "code",
   "execution_count": 28,
   "id": "73d75cb5-f0e3-451a-a686-bc5b3e3877ba",
   "metadata": {},
   "outputs": [],
   "source": [
    "##################################\n",
    "# Formulating the dataset\n",
    "# with numeric columns only\n",
    "##################################\n",
    "lung_cancer_numeric = lung_cancer.select_dtypes(include=['number','int'])"
   ]
  },
  {
   "cell_type": "code",
   "execution_count": 29,
   "id": "dd3f98c1-2755-47f7-8e42-c25a5ac2af2b",
   "metadata": {},
   "outputs": [],
   "source": [
    "##################################\n",
    "# Gathering the variable names for each numeric column\n",
    "##################################\n",
    "numeric_variable_name_list = lung_cancer_numeric.columns"
   ]
  },
  {
   "cell_type": "code",
   "execution_count": 30,
   "id": "92c50bbb-1a31-47b7-bf93-0f048b2a49bb",
   "metadata": {},
   "outputs": [],
   "source": [
    "##################################\n",
    "# Gathering the minimum value for each numeric column\n",
    "##################################\n",
    "numeric_minimum_list = lung_cancer_numeric.min()"
   ]
  },
  {
   "cell_type": "code",
   "execution_count": 31,
   "id": "a91f8541-77f3-40f4-89c7-af533c3e97a4",
   "metadata": {},
   "outputs": [],
   "source": [
    "##################################\n",
    "# Gathering the mean value for each numeric column\n",
    "##################################\n",
    "numeric_mean_list = lung_cancer_numeric.mean()"
   ]
  },
  {
   "cell_type": "code",
   "execution_count": 32,
   "id": "1899eac0-be87-4418-974f-88a908ef1e5f",
   "metadata": {},
   "outputs": [],
   "source": [
    "##################################\n",
    "# Gathering the median value for each numeric column\n",
    "##################################\n",
    "numeric_median_list = lung_cancer_numeric.median()"
   ]
  },
  {
   "cell_type": "code",
   "execution_count": 33,
   "id": "def9ab5d-7f2a-4b3b-87c8-02aa7b42b25c",
   "metadata": {},
   "outputs": [],
   "source": [
    "##################################\n",
    "# Gathering the maximum value for each numeric column\n",
    "##################################\n",
    "numeric_maximum_list = lung_cancer_numeric.max()"
   ]
  },
  {
   "cell_type": "code",
   "execution_count": 34,
   "id": "916d9e02-e950-445b-b2fe-50bf56250ba2",
   "metadata": {},
   "outputs": [],
   "source": [
    "##################################\n",
    "# Gathering the first mode values for each numeric column\n",
    "##################################\n",
    "numeric_first_mode_list = [lung_cancer[x].value_counts(dropna=True).index.tolist()[0] for x in lung_cancer_numeric]"
   ]
  },
  {
   "cell_type": "code",
   "execution_count": 35,
   "id": "f1c15d58-9780-4552-9ece-e37f016073b9",
   "metadata": {},
   "outputs": [],
   "source": [
    "##################################\n",
    "# Gathering the second mode values for each numeric column\n",
    "##################################\n",
    "numeric_second_mode_list = [lung_cancer[x].value_counts(dropna=True).index.tolist()[1] for x in lung_cancer_numeric]"
   ]
  },
  {
   "cell_type": "code",
   "execution_count": 36,
   "id": "e9e63e7c-85e3-40d1-ad3e-125efbd93403",
   "metadata": {},
   "outputs": [],
   "source": [
    "##################################\n",
    "# Gathering the count of first mode values for each numeric column\n",
    "##################################\n",
    "numeric_first_mode_count_list = [lung_cancer_numeric[x].isin([lung_cancer[x].value_counts(dropna=True).index.tolist()[0]]).sum() for x in lung_cancer_numeric]"
   ]
  },
  {
   "cell_type": "code",
   "execution_count": 37,
   "id": "063b5e61-92b9-41ff-9ba7-fc0cd5806f9a",
   "metadata": {},
   "outputs": [],
   "source": [
    "##################################\n",
    "# Gathering the count of second mode values for each numeric column\n",
    "##################################\n",
    "numeric_second_mode_count_list = [lung_cancer_numeric[x].isin([lung_cancer[x].value_counts(dropna=True).index.tolist()[1]]).sum() for x in lung_cancer_numeric]"
   ]
  },
  {
   "cell_type": "code",
   "execution_count": 38,
   "id": "2837ab41-a9e0-4be4-9854-22f6ac93e414",
   "metadata": {},
   "outputs": [],
   "source": [
    "##################################\n",
    "# Gathering the first mode to second mode ratio for each numeric column\n",
    "##################################\n",
    "numeric_first_second_mode_ratio_list = map(truediv, numeric_first_mode_count_list, numeric_second_mode_count_list)"
   ]
  },
  {
   "cell_type": "code",
   "execution_count": 39,
   "id": "647f72f4-702b-4821-b156-a3f3abfaee0b",
   "metadata": {},
   "outputs": [],
   "source": [
    "##################################\n",
    "# Gathering the count of unique values for each numeric column\n",
    "##################################\n",
    "numeric_unique_count_list = lung_cancer_numeric.nunique(dropna=True)"
   ]
  },
  {
   "cell_type": "code",
   "execution_count": 40,
   "id": "424572a8-e904-4681-b6c5-32c6d7d92894",
   "metadata": {},
   "outputs": [],
   "source": [
    "##################################\n",
    "# Gathering the number of observations for each numeric column\n",
    "##################################\n",
    "numeric_row_count_list = list([len(lung_cancer_numeric)] * len(lung_cancer_numeric.columns))"
   ]
  },
  {
   "cell_type": "code",
   "execution_count": 41,
   "id": "8976394c-f2c1-4251-961d-1d1d0da09a97",
   "metadata": {},
   "outputs": [],
   "source": [
    "##################################\n",
    "# Gathering the unique to count ratio for each numeric column\n",
    "##################################\n",
    "numeric_unique_count_ratio_list = map(truediv, numeric_unique_count_list, numeric_row_count_list)"
   ]
  },
  {
   "cell_type": "code",
   "execution_count": 42,
   "id": "fda23123-005e-4628-a399-a9940d05b899",
   "metadata": {},
   "outputs": [],
   "source": [
    "##################################\n",
    "# Gathering the skewness value for each numeric column\n",
    "##################################\n",
    "numeric_skewness_list = lung_cancer_numeric.skew()"
   ]
  },
  {
   "cell_type": "code",
   "execution_count": 43,
   "id": "f332c9ff-5501-4084-b85a-023c41119c9f",
   "metadata": {},
   "outputs": [],
   "source": [
    "##################################\n",
    "# Gathering the kurtosis value for each numeric column\n",
    "##################################\n",
    "numeric_kurtosis_list = lung_cancer_numeric.kurtosis()"
   ]
  },
  {
   "cell_type": "code",
   "execution_count": 44,
   "id": "52533754-5d6a-4644-8898-508004bd643c",
   "metadata": {},
   "outputs": [
    {
     "data": {
      "text/html": [
       "<div>\n",
       "<style scoped>\n",
       "    .dataframe tbody tr th:only-of-type {\n",
       "        vertical-align: middle;\n",
       "    }\n",
       "\n",
       "    .dataframe tbody tr th {\n",
       "        vertical-align: top;\n",
       "    }\n",
       "\n",
       "    .dataframe thead th {\n",
       "        text-align: right;\n",
       "    }\n",
       "</style>\n",
       "<table border=\"1\" class=\"dataframe\">\n",
       "  <thead>\n",
       "    <tr style=\"text-align: right;\">\n",
       "      <th></th>\n",
       "      <th>Numeric.Column.Name</th>\n",
       "      <th>Minimum</th>\n",
       "      <th>Mean</th>\n",
       "      <th>Median</th>\n",
       "      <th>Maximum</th>\n",
       "      <th>First.Mode</th>\n",
       "      <th>Second.Mode</th>\n",
       "      <th>First.Mode.Count</th>\n",
       "      <th>Second.Mode.Count</th>\n",
       "      <th>First.Second.Mode.Ratio</th>\n",
       "      <th>Unique.Count</th>\n",
       "      <th>Row.Count</th>\n",
       "      <th>Unique.Count.Ratio</th>\n",
       "      <th>Skewness</th>\n",
       "      <th>Kurtosis</th>\n",
       "    </tr>\n",
       "  </thead>\n",
       "  <tbody>\n",
       "    <tr>\n",
       "      <th>0</th>\n",
       "      <td>AGE</td>\n",
       "      <td>21</td>\n",
       "      <td>62.673139</td>\n",
       "      <td>62.0</td>\n",
       "      <td>87</td>\n",
       "      <td>64</td>\n",
       "      <td>63</td>\n",
       "      <td>20</td>\n",
       "      <td>19</td>\n",
       "      <td>1.052632</td>\n",
       "      <td>39</td>\n",
       "      <td>309</td>\n",
       "      <td>0.126214</td>\n",
       "      <td>-0.395086</td>\n",
       "      <td>1.746558</td>\n",
       "    </tr>\n",
       "  </tbody>\n",
       "</table>\n",
       "</div>"
      ],
      "text/plain": [
       "  Numeric.Column.Name  Minimum       Mean  Median  Maximum  First.Mode  \\\n",
       "0                 AGE       21  62.673139    62.0       87          64   \n",
       "\n",
       "   Second.Mode  First.Mode.Count  Second.Mode.Count  First.Second.Mode.Ratio  \\\n",
       "0           63                20                 19                 1.052632   \n",
       "\n",
       "   Unique.Count  Row.Count  Unique.Count.Ratio  Skewness  Kurtosis  \n",
       "0            39        309            0.126214 -0.395086  1.746558  "
      ]
     },
     "metadata": {},
     "output_type": "display_data"
    }
   ],
   "source": [
    "numeric_column_quality_summary = pd.DataFrame(zip(numeric_variable_name_list,\n",
    "                                                numeric_minimum_list,\n",
    "                                                numeric_mean_list,\n",
    "                                                numeric_median_list,\n",
    "                                                numeric_maximum_list,\n",
    "                                                numeric_first_mode_list,\n",
    "                                                numeric_second_mode_list,\n",
    "                                                numeric_first_mode_count_list,\n",
    "                                                numeric_second_mode_count_list,\n",
    "                                                numeric_first_second_mode_ratio_list,\n",
    "                                                numeric_unique_count_list,\n",
    "                                                numeric_row_count_list,\n",
    "                                                numeric_unique_count_ratio_list,\n",
    "                                                numeric_skewness_list,\n",
    "                                                numeric_kurtosis_list), \n",
    "                                        columns=['Numeric.Column.Name',\n",
    "                                                 'Minimum',\n",
    "                                                 'Mean',\n",
    "                                                 'Median',\n",
    "                                                 'Maximum',\n",
    "                                                 'First.Mode',\n",
    "                                                 'Second.Mode',\n",
    "                                                 'First.Mode.Count',\n",
    "                                                 'Second.Mode.Count',\n",
    "                                                 'First.Second.Mode.Ratio',\n",
    "                                                 'Unique.Count',\n",
    "                                                 'Row.Count',\n",
    "                                                 'Unique.Count.Ratio',\n",
    "                                                 'Skewness',\n",
    "                                                 'Kurtosis'])\n",
    "display(numeric_column_quality_summary)"
   ]
  },
  {
   "cell_type": "code",
   "execution_count": 45,
   "id": "258b2072-f92e-4531-bfdd-16fc218e7f90",
   "metadata": {},
   "outputs": [
    {
     "data": {
      "text/plain": [
       "0"
      ]
     },
     "execution_count": 45,
     "metadata": {},
     "output_type": "execute_result"
    }
   ],
   "source": [
    "##################################\n",
    "# Counting the number of numeric columns\n",
    "# with First.Second.Mode.Ratio > 5.00\n",
    "##################################\n",
    "len(numeric_column_quality_summary[(numeric_column_quality_summary['First.Second.Mode.Ratio']>5)])"
   ]
  },
  {
   "cell_type": "code",
   "execution_count": 46,
   "id": "342987a1-5386-4a5d-a3e1-1d6b86799f6b",
   "metadata": {
    "tags": []
   },
   "outputs": [
    {
     "data": {
      "text/plain": [
       "0"
      ]
     },
     "execution_count": 46,
     "metadata": {},
     "output_type": "execute_result"
    }
   ],
   "source": [
    "##################################\n",
    "# Counting the number of numeric columns\n",
    "# with Unique.Count.Ratio > 10.00\n",
    "##################################\n",
    "len(numeric_column_quality_summary[(numeric_column_quality_summary['Unique.Count.Ratio']>10)])"
   ]
  },
  {
   "cell_type": "code",
   "execution_count": 47,
   "id": "39feae62-a20f-426a-abcd-abdfc08f5f12",
   "metadata": {
    "tags": []
   },
   "outputs": [
    {
     "data": {
      "text/plain": [
       "0"
      ]
     },
     "execution_count": 47,
     "metadata": {},
     "output_type": "execute_result"
    }
   ],
   "source": [
    "##################################\n",
    "# Counting the number of numeric columns\n",
    "# with Skewness > 3.00 or Skewness < -3.00\n",
    "##################################\n",
    "len(numeric_column_quality_summary[(numeric_column_quality_summary['Skewness']>3) | (numeric_column_quality_summary['Skewness']<(-3))])"
   ]
  },
  {
   "cell_type": "code",
   "execution_count": 48,
   "id": "baf76979-b5e3-48b8-9550-61dc1cb6339e",
   "metadata": {
    "tags": []
   },
   "outputs": [],
   "source": [
    "##################################\n",
    "# Formulating the dataset\n",
    "# with object or categorical column only\n",
    "##################################\n",
    "lung_cancer_object = lung_cancer.select_dtypes(include=['object','category'])"
   ]
  },
  {
   "cell_type": "code",
   "execution_count": 49,
   "id": "adc46c0d-bbff-4930-a3d3-18b1ae4d92d0",
   "metadata": {
    "tags": []
   },
   "outputs": [],
   "source": [
    "##################################\n",
    "# Gathering the variable names for the object or categorical column\n",
    "##################################\n",
    "categorical_variable_name_list = lung_cancer_object.columns"
   ]
  },
  {
   "cell_type": "code",
   "execution_count": 50,
   "id": "8b21ea92-af94-4e8b-8122-a1b8bd11642f",
   "metadata": {
    "tags": []
   },
   "outputs": [],
   "source": [
    "##################################\n",
    "# Gathering the first mode values for the object or categorical column\n",
    "##################################\n",
    "categorical_first_mode_list = [lung_cancer[x].value_counts().index.tolist()[0] for x in lung_cancer_object]"
   ]
  },
  {
   "cell_type": "code",
   "execution_count": 51,
   "id": "e6e754c0-5ba2-4137-a4ad-7482b2c8223d",
   "metadata": {
    "tags": []
   },
   "outputs": [],
   "source": [
    "##################################\n",
    "# Gathering the second mode values for each object or categorical column\n",
    "##################################\n",
    "categorical_second_mode_list = [lung_cancer[x].value_counts().index.tolist()[1] for x in lung_cancer_object]"
   ]
  },
  {
   "cell_type": "code",
   "execution_count": 52,
   "id": "95168582-c56d-4287-b3cf-976931ef16d4",
   "metadata": {
    "tags": []
   },
   "outputs": [],
   "source": [
    "##################################\n",
    "# Gathering the count of first mode values for each object or categorical column\n",
    "##################################\n",
    "categorical_first_mode_count_list = [lung_cancer_object[x].isin([lung_cancer[x].value_counts(dropna=True).index.tolist()[0]]).sum() for x in lung_cancer_object]"
   ]
  },
  {
   "cell_type": "code",
   "execution_count": 53,
   "id": "c811b1ae-3e11-4e93-b776-1724aac14495",
   "metadata": {
    "tags": []
   },
   "outputs": [],
   "source": [
    "##################################\n",
    "# Gathering the count of second mode values for each object or categorical column\n",
    "##################################\n",
    "categorical_second_mode_count_list = [lung_cancer_object[x].isin([lung_cancer[x].value_counts(dropna=True).index.tolist()[1]]).sum() for x in lung_cancer_object]"
   ]
  },
  {
   "cell_type": "code",
   "execution_count": 54,
   "id": "6d26a6ad-3668-4183-81ff-8de04512c770",
   "metadata": {
    "tags": []
   },
   "outputs": [],
   "source": [
    "##################################\n",
    "# Gathering the first mode to second mode ratio for each object or categorical column\n",
    "##################################\n",
    "categorical_first_second_mode_ratio_list = map(truediv, categorical_first_mode_count_list, categorical_second_mode_count_list)"
   ]
  },
  {
   "cell_type": "code",
   "execution_count": 55,
   "id": "92850bd7-fc23-4c66-977d-989b9de28f46",
   "metadata": {
    "tags": []
   },
   "outputs": [],
   "source": [
    "##################################\n",
    "# Gathering the count of unique values for each object or categorical column\n",
    "##################################\n",
    "categorical_unique_count_list = lung_cancer_object.nunique(dropna=True)"
   ]
  },
  {
   "cell_type": "code",
   "execution_count": 56,
   "id": "9eece729-d6cf-47bf-97ae-4dec12f43baf",
   "metadata": {
    "tags": []
   },
   "outputs": [],
   "source": [
    "##################################\n",
    "# Gathering the number of observations for each object or categorical column\n",
    "##################################\n",
    "categorical_row_count_list = list([len(lung_cancer_object)] * len(lung_cancer_object.columns))"
   ]
  },
  {
   "cell_type": "code",
   "execution_count": 57,
   "id": "c101d801-b776-45b5-8001-d9927ba2e032",
   "metadata": {
    "tags": []
   },
   "outputs": [],
   "source": [
    "##################################\n",
    "# Gathering the unique to count ratio for each object or categorical column\n",
    "##################################\n",
    "categorical_unique_count_ratio_list = map(truediv, categorical_unique_count_list, categorical_row_count_list)"
   ]
  },
  {
   "cell_type": "code",
   "execution_count": 58,
   "id": "bd3a8358-d1eb-4b64-b67b-792885e13d71",
   "metadata": {
    "tags": []
   },
   "outputs": [
    {
     "data": {
      "text/html": [
       "<div>\n",
       "<style scoped>\n",
       "    .dataframe tbody tr th:only-of-type {\n",
       "        vertical-align: middle;\n",
       "    }\n",
       "\n",
       "    .dataframe tbody tr th {\n",
       "        vertical-align: top;\n",
       "    }\n",
       "\n",
       "    .dataframe thead th {\n",
       "        text-align: right;\n",
       "    }\n",
       "</style>\n",
       "<table border=\"1\" class=\"dataframe\">\n",
       "  <thead>\n",
       "    <tr style=\"text-align: right;\">\n",
       "      <th></th>\n",
       "      <th>Categorical.Column.Name</th>\n",
       "      <th>First.Mode</th>\n",
       "      <th>Second.Mode</th>\n",
       "      <th>First.Mode.Count</th>\n",
       "      <th>Second.Mode.Count</th>\n",
       "      <th>First.Second.Mode.Ratio</th>\n",
       "      <th>Unique.Count</th>\n",
       "      <th>Row.Count</th>\n",
       "      <th>Unique.Count.Ratio</th>\n",
       "    </tr>\n",
       "  </thead>\n",
       "  <tbody>\n",
       "    <tr>\n",
       "      <th>0</th>\n",
       "      <td>GENDER</td>\n",
       "      <td>M</td>\n",
       "      <td>F</td>\n",
       "      <td>162</td>\n",
       "      <td>147</td>\n",
       "      <td>1.102041</td>\n",
       "      <td>2</td>\n",
       "      <td>309</td>\n",
       "      <td>0.006472</td>\n",
       "    </tr>\n",
       "    <tr>\n",
       "      <th>1</th>\n",
       "      <td>SMOKING</td>\n",
       "      <td>Present</td>\n",
       "      <td>Absent</td>\n",
       "      <td>174</td>\n",
       "      <td>135</td>\n",
       "      <td>1.288889</td>\n",
       "      <td>2</td>\n",
       "      <td>309</td>\n",
       "      <td>0.006472</td>\n",
       "    </tr>\n",
       "    <tr>\n",
       "      <th>2</th>\n",
       "      <td>YELLOW_FINGERS</td>\n",
       "      <td>Present</td>\n",
       "      <td>Absent</td>\n",
       "      <td>176</td>\n",
       "      <td>133</td>\n",
       "      <td>1.323308</td>\n",
       "      <td>2</td>\n",
       "      <td>309</td>\n",
       "      <td>0.006472</td>\n",
       "    </tr>\n",
       "    <tr>\n",
       "      <th>3</th>\n",
       "      <td>ANXIETY</td>\n",
       "      <td>Absent</td>\n",
       "      <td>Present</td>\n",
       "      <td>155</td>\n",
       "      <td>154</td>\n",
       "      <td>1.006494</td>\n",
       "      <td>2</td>\n",
       "      <td>309</td>\n",
       "      <td>0.006472</td>\n",
       "    </tr>\n",
       "    <tr>\n",
       "      <th>4</th>\n",
       "      <td>PEER_PRESSURE</td>\n",
       "      <td>Present</td>\n",
       "      <td>Absent</td>\n",
       "      <td>155</td>\n",
       "      <td>154</td>\n",
       "      <td>1.006494</td>\n",
       "      <td>2</td>\n",
       "      <td>309</td>\n",
       "      <td>0.006472</td>\n",
       "    </tr>\n",
       "    <tr>\n",
       "      <th>5</th>\n",
       "      <td>CHRONIC DISEASE</td>\n",
       "      <td>Present</td>\n",
       "      <td>Absent</td>\n",
       "      <td>156</td>\n",
       "      <td>153</td>\n",
       "      <td>1.019608</td>\n",
       "      <td>2</td>\n",
       "      <td>309</td>\n",
       "      <td>0.006472</td>\n",
       "    </tr>\n",
       "    <tr>\n",
       "      <th>6</th>\n",
       "      <td>FATIGUE</td>\n",
       "      <td>Present</td>\n",
       "      <td>Absent</td>\n",
       "      <td>208</td>\n",
       "      <td>101</td>\n",
       "      <td>2.059406</td>\n",
       "      <td>2</td>\n",
       "      <td>309</td>\n",
       "      <td>0.006472</td>\n",
       "    </tr>\n",
       "    <tr>\n",
       "      <th>7</th>\n",
       "      <td>ALLERGY</td>\n",
       "      <td>Present</td>\n",
       "      <td>Absent</td>\n",
       "      <td>172</td>\n",
       "      <td>137</td>\n",
       "      <td>1.255474</td>\n",
       "      <td>2</td>\n",
       "      <td>309</td>\n",
       "      <td>0.006472</td>\n",
       "    </tr>\n",
       "    <tr>\n",
       "      <th>8</th>\n",
       "      <td>WHEEZING</td>\n",
       "      <td>Present</td>\n",
       "      <td>Absent</td>\n",
       "      <td>172</td>\n",
       "      <td>137</td>\n",
       "      <td>1.255474</td>\n",
       "      <td>2</td>\n",
       "      <td>309</td>\n",
       "      <td>0.006472</td>\n",
       "    </tr>\n",
       "    <tr>\n",
       "      <th>9</th>\n",
       "      <td>ALCOHOL CONSUMING</td>\n",
       "      <td>Present</td>\n",
       "      <td>Absent</td>\n",
       "      <td>172</td>\n",
       "      <td>137</td>\n",
       "      <td>1.255474</td>\n",
       "      <td>2</td>\n",
       "      <td>309</td>\n",
       "      <td>0.006472</td>\n",
       "    </tr>\n",
       "    <tr>\n",
       "      <th>10</th>\n",
       "      <td>COUGHING</td>\n",
       "      <td>Present</td>\n",
       "      <td>Absent</td>\n",
       "      <td>179</td>\n",
       "      <td>130</td>\n",
       "      <td>1.376923</td>\n",
       "      <td>2</td>\n",
       "      <td>309</td>\n",
       "      <td>0.006472</td>\n",
       "    </tr>\n",
       "    <tr>\n",
       "      <th>11</th>\n",
       "      <td>SHORTNESS OF BREATH</td>\n",
       "      <td>Present</td>\n",
       "      <td>Absent</td>\n",
       "      <td>198</td>\n",
       "      <td>111</td>\n",
       "      <td>1.783784</td>\n",
       "      <td>2</td>\n",
       "      <td>309</td>\n",
       "      <td>0.006472</td>\n",
       "    </tr>\n",
       "    <tr>\n",
       "      <th>12</th>\n",
       "      <td>SWALLOWING DIFFICULTY</td>\n",
       "      <td>Absent</td>\n",
       "      <td>Present</td>\n",
       "      <td>164</td>\n",
       "      <td>145</td>\n",
       "      <td>1.131034</td>\n",
       "      <td>2</td>\n",
       "      <td>309</td>\n",
       "      <td>0.006472</td>\n",
       "    </tr>\n",
       "    <tr>\n",
       "      <th>13</th>\n",
       "      <td>CHEST PAIN</td>\n",
       "      <td>Present</td>\n",
       "      <td>Absent</td>\n",
       "      <td>172</td>\n",
       "      <td>137</td>\n",
       "      <td>1.255474</td>\n",
       "      <td>2</td>\n",
       "      <td>309</td>\n",
       "      <td>0.006472</td>\n",
       "    </tr>\n",
       "    <tr>\n",
       "      <th>14</th>\n",
       "      <td>LUNG_CANCER</td>\n",
       "      <td>YES</td>\n",
       "      <td>NO</td>\n",
       "      <td>270</td>\n",
       "      <td>39</td>\n",
       "      <td>6.923077</td>\n",
       "      <td>2</td>\n",
       "      <td>309</td>\n",
       "      <td>0.006472</td>\n",
       "    </tr>\n",
       "  </tbody>\n",
       "</table>\n",
       "</div>"
      ],
      "text/plain": [
       "   Categorical.Column.Name First.Mode Second.Mode  First.Mode.Count  \\\n",
       "0                   GENDER          M           F               162   \n",
       "1                  SMOKING    Present      Absent               174   \n",
       "2           YELLOW_FINGERS    Present      Absent               176   \n",
       "3                  ANXIETY     Absent     Present               155   \n",
       "4            PEER_PRESSURE    Present      Absent               155   \n",
       "5          CHRONIC DISEASE    Present      Absent               156   \n",
       "6                 FATIGUE     Present      Absent               208   \n",
       "7                 ALLERGY     Present      Absent               172   \n",
       "8                 WHEEZING    Present      Absent               172   \n",
       "9        ALCOHOL CONSUMING    Present      Absent               172   \n",
       "10                COUGHING    Present      Absent               179   \n",
       "11     SHORTNESS OF BREATH    Present      Absent               198   \n",
       "12   SWALLOWING DIFFICULTY     Absent     Present               164   \n",
       "13              CHEST PAIN    Present      Absent               172   \n",
       "14             LUNG_CANCER        YES          NO               270   \n",
       "\n",
       "    Second.Mode.Count  First.Second.Mode.Ratio  Unique.Count  Row.Count  \\\n",
       "0                 147                 1.102041             2        309   \n",
       "1                 135                 1.288889             2        309   \n",
       "2                 133                 1.323308             2        309   \n",
       "3                 154                 1.006494             2        309   \n",
       "4                 154                 1.006494             2        309   \n",
       "5                 153                 1.019608             2        309   \n",
       "6                 101                 2.059406             2        309   \n",
       "7                 137                 1.255474             2        309   \n",
       "8                 137                 1.255474             2        309   \n",
       "9                 137                 1.255474             2        309   \n",
       "10                130                 1.376923             2        309   \n",
       "11                111                 1.783784             2        309   \n",
       "12                145                 1.131034             2        309   \n",
       "13                137                 1.255474             2        309   \n",
       "14                 39                 6.923077             2        309   \n",
       "\n",
       "    Unique.Count.Ratio  \n",
       "0             0.006472  \n",
       "1             0.006472  \n",
       "2             0.006472  \n",
       "3             0.006472  \n",
       "4             0.006472  \n",
       "5             0.006472  \n",
       "6             0.006472  \n",
       "7             0.006472  \n",
       "8             0.006472  \n",
       "9             0.006472  \n",
       "10            0.006472  \n",
       "11            0.006472  \n",
       "12            0.006472  \n",
       "13            0.006472  \n",
       "14            0.006472  "
      ]
     },
     "metadata": {},
     "output_type": "display_data"
    }
   ],
   "source": [
    "categorical_column_quality_summary = pd.DataFrame(zip(categorical_variable_name_list,\n",
    "                                                 categorical_first_mode_list,\n",
    "                                                 categorical_second_mode_list,\n",
    "                                                 categorical_first_mode_count_list,\n",
    "                                                 categorical_second_mode_count_list,\n",
    "                                                 categorical_first_second_mode_ratio_list,\n",
    "                                                 categorical_unique_count_list,\n",
    "                                                 categorical_row_count_list,\n",
    "                                                 categorical_unique_count_ratio_list), \n",
    "                                        columns=['Categorical.Column.Name',\n",
    "                                                 'First.Mode',\n",
    "                                                 'Second.Mode',\n",
    "                                                 'First.Mode.Count',\n",
    "                                                 'Second.Mode.Count',\n",
    "                                                 'First.Second.Mode.Ratio',\n",
    "                                                 'Unique.Count',\n",
    "                                                 'Row.Count',\n",
    "                                                 'Unique.Count.Ratio'])\n",
    "display(categorical_column_quality_summary)"
   ]
  },
  {
   "cell_type": "code",
   "execution_count": 59,
   "id": "d8add2b2-2bf8-4055-88b7-fe4b12c76a65",
   "metadata": {
    "tags": []
   },
   "outputs": [
    {
     "data": {
      "text/plain": [
       "1"
      ]
     },
     "execution_count": 59,
     "metadata": {},
     "output_type": "execute_result"
    }
   ],
   "source": [
    "##################################\n",
    "# Counting the number of object or categorical columns\n",
    "# with First.Second.Mode.Ratio > 5.00\n",
    "##################################\n",
    "len(categorical_column_quality_summary[(categorical_column_quality_summary['First.Second.Mode.Ratio']>5)])"
   ]
  },
  {
   "cell_type": "code",
   "execution_count": 60,
   "id": "dcc2497c-7253-4af5-922d-cf0972aff058",
   "metadata": {
    "tags": []
   },
   "outputs": [
    {
     "data": {
      "text/html": [
       "<div>\n",
       "<style scoped>\n",
       "    .dataframe tbody tr th:only-of-type {\n",
       "        vertical-align: middle;\n",
       "    }\n",
       "\n",
       "    .dataframe tbody tr th {\n",
       "        vertical-align: top;\n",
       "    }\n",
       "\n",
       "    .dataframe thead th {\n",
       "        text-align: right;\n",
       "    }\n",
       "</style>\n",
       "<table border=\"1\" class=\"dataframe\">\n",
       "  <thead>\n",
       "    <tr style=\"text-align: right;\">\n",
       "      <th></th>\n",
       "      <th>Categorical.Column.Name</th>\n",
       "      <th>First.Mode</th>\n",
       "      <th>Second.Mode</th>\n",
       "      <th>First.Mode.Count</th>\n",
       "      <th>Second.Mode.Count</th>\n",
       "      <th>First.Second.Mode.Ratio</th>\n",
       "      <th>Unique.Count</th>\n",
       "      <th>Row.Count</th>\n",
       "      <th>Unique.Count.Ratio</th>\n",
       "    </tr>\n",
       "  </thead>\n",
       "  <tbody>\n",
       "    <tr>\n",
       "      <th>14</th>\n",
       "      <td>LUNG_CANCER</td>\n",
       "      <td>YES</td>\n",
       "      <td>NO</td>\n",
       "      <td>270</td>\n",
       "      <td>39</td>\n",
       "      <td>6.923077</td>\n",
       "      <td>2</td>\n",
       "      <td>309</td>\n",
       "      <td>0.006472</td>\n",
       "    </tr>\n",
       "  </tbody>\n",
       "</table>\n",
       "</div>"
      ],
      "text/plain": [
       "   Categorical.Column.Name First.Mode Second.Mode  First.Mode.Count  \\\n",
       "14             LUNG_CANCER        YES          NO               270   \n",
       "\n",
       "    Second.Mode.Count  First.Second.Mode.Ratio  Unique.Count  Row.Count  \\\n",
       "14                 39                 6.923077             2        309   \n",
       "\n",
       "    Unique.Count.Ratio  \n",
       "14            0.006472  "
      ]
     },
     "metadata": {},
     "output_type": "display_data"
    }
   ],
   "source": [
    "##################################\n",
    "# Identifying the object or categorical columns\n",
    "# with First.Second.Mode.Ratio > 5.00\n",
    "##################################\n",
    "display(categorical_column_quality_summary[(categorical_column_quality_summary['First.Second.Mode.Ratio']>5)].sort_values(by=['First.Second.Mode.Ratio'], ascending=False))"
   ]
  },
  {
   "cell_type": "code",
   "execution_count": 61,
   "id": "c8a854d3-0bc2-4d13-8efe-0e267f96ea5d",
   "metadata": {
    "tags": []
   },
   "outputs": [
    {
     "data": {
      "text/plain": [
       "0"
      ]
     },
     "execution_count": 61,
     "metadata": {},
     "output_type": "execute_result"
    }
   ],
   "source": [
    "##################################\n",
    "# Counting the number of object or categorical columns\n",
    "# with Unique.Count.Ratio > 10.00\n",
    "##################################\n",
    "len(categorical_column_quality_summary[(categorical_column_quality_summary['Unique.Count.Ratio']>10)])"
   ]
  },
  {
   "cell_type": "markdown",
   "id": "deb13594-1330-411b-a488-ec3acf5af60d",
   "metadata": {},
   "source": [
    "## 1.4. Data Preprocessing <a class=\"anchor\" id=\"1.4\"></a>"
   ]
  },
  {
   "cell_type": "code",
   "execution_count": 62,
   "id": "6d7e7e5e-a972-45fe-a1bc-805dc1615f13",
   "metadata": {
    "tags": []
   },
   "outputs": [],
   "source": [
    "##################################\n",
    "# Formulating the dataset\n",
    "# with numeric columns only\n",
    "##################################\n",
    "lung_cancer_numeric = lung_cancer.select_dtypes(include=['number','int'])"
   ]
  },
  {
   "cell_type": "code",
   "execution_count": 63,
   "id": "f87ca3f1-331b-4594-b1af-fc70645dd3fa",
   "metadata": {
    "tags": []
   },
   "outputs": [],
   "source": [
    "##################################\n",
    "# Gathering the variable names for each numeric column\n",
    "##################################\n",
    "numeric_variable_name_list = lung_cancer_numeric.columns"
   ]
  },
  {
   "cell_type": "code",
   "execution_count": 64,
   "id": "1960d0c4-dd00-43e0-989f-a88ccec6bd02",
   "metadata": {
    "tags": []
   },
   "outputs": [],
   "source": [
    "##################################\n",
    "# Gathering the skewness value for each numeric column\n",
    "##################################\n",
    "numeric_skewness_list = lung_cancer_numeric.skew()"
   ]
  },
  {
   "cell_type": "code",
   "execution_count": 65,
   "id": "02f3199c-4420-4eec-8658-9b4d7c77e88f",
   "metadata": {
    "tags": []
   },
   "outputs": [],
   "source": [
    "##################################\n",
    "# Computing the interquartile range\n",
    "# for all columns\n",
    "##################################\n",
    "lung_cancer_numeric_q1 = lung_cancer_numeric.quantile(0.25)\n",
    "lung_cancer_numeric_q3 = lung_cancer_numeric.quantile(0.75)\n",
    "lung_cancer_numeric_iqr = lung_cancer_numeric_q3 - lung_cancer_numeric_q1"
   ]
  },
  {
   "cell_type": "code",
   "execution_count": 66,
   "id": "092681c2-758f-49cf-befc-020ca75b1d19",
   "metadata": {
    "tags": []
   },
   "outputs": [],
   "source": [
    "##################################\n",
    "# Gathering the outlier count for each numeric column\n",
    "# based on the interquartile range criterion\n",
    "##################################\n",
    "numeric_outlier_count_list = ((lung_cancer_numeric < (lung_cancer_numeric_q1 - 1.5 * lung_cancer_numeric_iqr)) | (lung_cancer_numeric > (lung_cancer_numeric_q3 + 1.5 * lung_cancer_numeric_iqr))).sum()"
   ]
  },
  {
   "cell_type": "code",
   "execution_count": 67,
   "id": "457db4ad-1e0a-4131-913e-e462d7648afa",
   "metadata": {
    "tags": []
   },
   "outputs": [],
   "source": [
    "##################################\n",
    "# Gathering the number of observations for each column\n",
    "##################################\n",
    "numeric_row_count_list = list([len(lung_cancer_numeric)] * len(lung_cancer_numeric.columns))"
   ]
  },
  {
   "cell_type": "code",
   "execution_count": 68,
   "id": "b68525de-e2de-457e-8357-c2d1343aba4f",
   "metadata": {
    "tags": []
   },
   "outputs": [],
   "source": [
    "##################################\n",
    "# Gathering the unique to count ratio for each categorical column\n",
    "##################################\n",
    "numeric_outlier_ratio_list = map(truediv, numeric_outlier_count_list, numeric_row_count_list)"
   ]
  },
  {
   "cell_type": "code",
   "execution_count": 69,
   "id": "449637a6-e425-4d5f-a7fe-39ede544d363",
   "metadata": {
    "tags": []
   },
   "outputs": [
    {
     "data": {
      "text/html": [
       "<div>\n",
       "<style scoped>\n",
       "    .dataframe tbody tr th:only-of-type {\n",
       "        vertical-align: middle;\n",
       "    }\n",
       "\n",
       "    .dataframe tbody tr th {\n",
       "        vertical-align: top;\n",
       "    }\n",
       "\n",
       "    .dataframe thead th {\n",
       "        text-align: right;\n",
       "    }\n",
       "</style>\n",
       "<table border=\"1\" class=\"dataframe\">\n",
       "  <thead>\n",
       "    <tr style=\"text-align: right;\">\n",
       "      <th></th>\n",
       "      <th>Numeric.Column.Name</th>\n",
       "      <th>Skewness</th>\n",
       "      <th>Outlier.Count</th>\n",
       "      <th>Row.Count</th>\n",
       "      <th>Outlier.Ratio</th>\n",
       "    </tr>\n",
       "  </thead>\n",
       "  <tbody>\n",
       "    <tr>\n",
       "      <th>0</th>\n",
       "      <td>AGE</td>\n",
       "      <td>-0.395086</td>\n",
       "      <td>2</td>\n",
       "      <td>309</td>\n",
       "      <td>0.006472</td>\n",
       "    </tr>\n",
       "  </tbody>\n",
       "</table>\n",
       "</div>"
      ],
      "text/plain": [
       "  Numeric.Column.Name  Skewness  Outlier.Count  Row.Count  Outlier.Ratio\n",
       "0                 AGE -0.395086              2        309       0.006472"
      ]
     },
     "metadata": {},
     "output_type": "display_data"
    }
   ],
   "source": [
    "##################################\n",
    "# Formulating the outlier summary\n",
    "# for all numeric columns\n",
    "##################################\n",
    "numeric_column_outlier_summary = pd.DataFrame(zip(numeric_variable_name_list,\n",
    "                                                  numeric_skewness_list,\n",
    "                                                  numeric_outlier_count_list,\n",
    "                                                  numeric_row_count_list,\n",
    "                                                  numeric_outlier_ratio_list), \n",
    "                                        columns=['Numeric.Column.Name',\n",
    "                                                 'Skewness',\n",
    "                                                 'Outlier.Count',\n",
    "                                                 'Row.Count',\n",
    "                                                 'Outlier.Ratio'])\n",
    "display(numeric_column_outlier_summary)"
   ]
  },
  {
   "cell_type": "code",
   "execution_count": 70,
   "id": "a3181e42-62a8-432b-8c1c-16ea54b94590",
   "metadata": {
    "tags": []
   },
   "outputs": [
    {
     "data": {
      "image/png": "[encoded data removed]",
      "text/plain": [
       "<Figure size 1700x100 with 1 Axes>"
      ]
     },
     "metadata": {},
     "output_type": "display_data"
    }
   ],
   "source": [
    "##################################\n",
    "# Formulating the individual boxplots\n",
    "# for all numeric columns\n",
    "##################################\n",
    "for column in lung_cancer_numeric:\n",
    "        plt.figure(figsize=(17,1))\n",
    "        sns.boxplot(data=lung_cancer_numeric, x=column)"
   ]
  },
  {
   "cell_type": "code",
   "execution_count": 71,
   "id": "fdba25fd-0a48-4fd6-af98-e49b2679167e",
   "metadata": {
    "tags": []
   },
   "outputs": [
    {
     "data": {
      "text/html": [
       "<div>\n",
       "<style scoped>\n",
       "    .dataframe tbody tr th:only-of-type {\n",
       "        vertical-align: middle;\n",
       "    }\n",
       "\n",
       "    .dataframe tbody tr th {\n",
       "        vertical-align: top;\n",
       "    }\n",
       "\n",
       "    .dataframe thead th {\n",
       "        text-align: right;\n",
       "    }\n",
       "</style>\n",
       "<table border=\"1\" class=\"dataframe\">\n",
       "  <thead>\n",
       "    <tr style=\"text-align: right;\">\n",
       "      <th></th>\n",
       "      <th>AGE</th>\n",
       "      <th>SMOKING</th>\n",
       "      <th>YELLOW_FINGERS</th>\n",
       "      <th>ANXIETY</th>\n",
       "      <th>PEER_PRESSURE</th>\n",
       "      <th>CHRONIC DISEASE</th>\n",
       "      <th>FATIGUE</th>\n",
       "      <th>ALLERGY</th>\n",
       "      <th>WHEEZING</th>\n",
       "      <th>ALCOHOL CONSUMING</th>\n",
       "      <th>COUGHING</th>\n",
       "      <th>SHORTNESS OF BREATH</th>\n",
       "      <th>SWALLOWING DIFFICULTY</th>\n",
       "      <th>CHEST PAIN</th>\n",
       "    </tr>\n",
       "  </thead>\n",
       "  <tbody>\n",
       "    <tr>\n",
       "      <th>0</th>\n",
       "      <td>69</td>\n",
       "      <td>0</td>\n",
       "      <td>1</td>\n",
       "      <td>1</td>\n",
       "      <td>0</td>\n",
       "      <td>0</td>\n",
       "      <td>1</td>\n",
       "      <td>0</td>\n",
       "      <td>1</td>\n",
       "      <td>1</td>\n",
       "      <td>1</td>\n",
       "      <td>1</td>\n",
       "      <td>1</td>\n",
       "      <td>1</td>\n",
       "    </tr>\n",
       "    <tr>\n",
       "      <th>1</th>\n",
       "      <td>74</td>\n",
       "      <td>1</td>\n",
       "      <td>0</td>\n",
       "      <td>0</td>\n",
       "      <td>0</td>\n",
       "      <td>1</td>\n",
       "      <td>1</td>\n",
       "      <td>1</td>\n",
       "      <td>0</td>\n",
       "      <td>0</td>\n",
       "      <td>0</td>\n",
       "      <td>1</td>\n",
       "      <td>1</td>\n",
       "      <td>1</td>\n",
       "    </tr>\n",
       "    <tr>\n",
       "      <th>2</th>\n",
       "      <td>59</td>\n",
       "      <td>0</td>\n",
       "      <td>0</td>\n",
       "      <td>0</td>\n",
       "      <td>1</td>\n",
       "      <td>0</td>\n",
       "      <td>1</td>\n",
       "      <td>0</td>\n",
       "      <td>1</td>\n",
       "      <td>0</td>\n",
       "      <td>1</td>\n",
       "      <td>1</td>\n",
       "      <td>0</td>\n",
       "      <td>1</td>\n",
       "    </tr>\n",
       "    <tr>\n",
       "      <th>3</th>\n",
       "      <td>63</td>\n",
       "      <td>1</td>\n",
       "      <td>1</td>\n",
       "      <td>1</td>\n",
       "      <td>0</td>\n",
       "      <td>0</td>\n",
       "      <td>0</td>\n",
       "      <td>0</td>\n",
       "      <td>0</td>\n",
       "      <td>1</td>\n",
       "      <td>0</td>\n",
       "      <td>0</td>\n",
       "      <td>1</td>\n",
       "      <td>1</td>\n",
       "    </tr>\n",
       "    <tr>\n",
       "      <th>4</th>\n",
       "      <td>63</td>\n",
       "      <td>0</td>\n",
       "      <td>1</td>\n",
       "      <td>0</td>\n",
       "      <td>0</td>\n",
       "      <td>0</td>\n",
       "      <td>0</td>\n",
       "      <td>0</td>\n",
       "      <td>1</td>\n",
       "      <td>0</td>\n",
       "      <td>1</td>\n",
       "      <td>1</td>\n",
       "      <td>0</td>\n",
       "      <td>0</td>\n",
       "    </tr>\n",
       "    <tr>\n",
       "      <th>...</th>\n",
       "      <td>...</td>\n",
       "      <td>...</td>\n",
       "      <td>...</td>\n",
       "      <td>...</td>\n",
       "      <td>...</td>\n",
       "      <td>...</td>\n",
       "      <td>...</td>\n",
       "      <td>...</td>\n",
       "      <td>...</td>\n",
       "      <td>...</td>\n",
       "      <td>...</td>\n",
       "      <td>...</td>\n",
       "      <td>...</td>\n",
       "      <td>...</td>\n",
       "    </tr>\n",
       "    <tr>\n",
       "      <th>304</th>\n",
       "      <td>56</td>\n",
       "      <td>0</td>\n",
       "      <td>0</td>\n",
       "      <td>0</td>\n",
       "      <td>1</td>\n",
       "      <td>1</td>\n",
       "      <td>1</td>\n",
       "      <td>0</td>\n",
       "      <td>0</td>\n",
       "      <td>1</td>\n",
       "      <td>1</td>\n",
       "      <td>1</td>\n",
       "      <td>1</td>\n",
       "      <td>0</td>\n",
       "    </tr>\n",
       "    <tr>\n",
       "      <th>305</th>\n",
       "      <td>70</td>\n",
       "      <td>1</td>\n",
       "      <td>0</td>\n",
       "      <td>0</td>\n",
       "      <td>0</td>\n",
       "      <td>0</td>\n",
       "      <td>1</td>\n",
       "      <td>1</td>\n",
       "      <td>1</td>\n",
       "      <td>1</td>\n",
       "      <td>1</td>\n",
       "      <td>1</td>\n",
       "      <td>0</td>\n",
       "      <td>1</td>\n",
       "    </tr>\n",
       "    <tr>\n",
       "      <th>306</th>\n",
       "      <td>58</td>\n",
       "      <td>1</td>\n",
       "      <td>0</td>\n",
       "      <td>0</td>\n",
       "      <td>0</td>\n",
       "      <td>0</td>\n",
       "      <td>0</td>\n",
       "      <td>1</td>\n",
       "      <td>1</td>\n",
       "      <td>1</td>\n",
       "      <td>1</td>\n",
       "      <td>0</td>\n",
       "      <td>0</td>\n",
       "      <td>1</td>\n",
       "    </tr>\n",
       "    <tr>\n",
       "      <th>307</th>\n",
       "      <td>67</td>\n",
       "      <td>1</td>\n",
       "      <td>0</td>\n",
       "      <td>1</td>\n",
       "      <td>0</td>\n",
       "      <td>0</td>\n",
       "      <td>1</td>\n",
       "      <td>1</td>\n",
       "      <td>0</td>\n",
       "      <td>1</td>\n",
       "      <td>1</td>\n",
       "      <td>1</td>\n",
       "      <td>0</td>\n",
       "      <td>1</td>\n",
       "    </tr>\n",
       "    <tr>\n",
       "      <th>308</th>\n",
       "      <td>62</td>\n",
       "      <td>0</td>\n",
       "      <td>0</td>\n",
       "      <td>0</td>\n",
       "      <td>1</td>\n",
       "      <td>0</td>\n",
       "      <td>1</td>\n",
       "      <td>1</td>\n",
       "      <td>1</td>\n",
       "      <td>1</td>\n",
       "      <td>0</td>\n",
       "      <td>0</td>\n",
       "      <td>1</td>\n",
       "      <td>0</td>\n",
       "    </tr>\n",
       "  </tbody>\n",
       "</table>\n",
       "<p>309 rows × 14 columns</p>\n",
       "</div>"
      ],
      "text/plain": [
       "     AGE  SMOKING  YELLOW_FINGERS  ANXIETY  PEER_PRESSURE  CHRONIC DISEASE  \\\n",
       "0     69        0               1        1              0                0   \n",
       "1     74        1               0        0              0                1   \n",
       "2     59        0               0        0              1                0   \n",
       "3     63        1               1        1              0                0   \n",
       "4     63        0               1        0              0                0   \n",
       "..   ...      ...             ...      ...            ...              ...   \n",
       "304   56        0               0        0              1                1   \n",
       "305   70        1               0        0              0                0   \n",
       "306   58        1               0        0              0                0   \n",
       "307   67        1               0        1              0                0   \n",
       "308   62        0               0        0              1                0   \n",
       "\n",
       "     FATIGUE   ALLERGY   WHEEZING  ALCOHOL CONSUMING  COUGHING  \\\n",
       "0           1         0         1                  1         1   \n",
       "1           1         1         0                  0         0   \n",
       "2           1         0         1                  0         1   \n",
       "3           0         0         0                  1         0   \n",
       "4           0         0         1                  0         1   \n",
       "..        ...       ...       ...                ...       ...   \n",
       "304         1         0         0                  1         1   \n",
       "305         1         1         1                  1         1   \n",
       "306         0         1         1                  1         1   \n",
       "307         1         1         0                  1         1   \n",
       "308         1         1         1                  1         0   \n",
       "\n",
       "     SHORTNESS OF BREATH  SWALLOWING DIFFICULTY  CHEST PAIN  \n",
       "0                      1                      1           1  \n",
       "1                      1                      1           1  \n",
       "2                      1                      0           1  \n",
       "3                      0                      1           1  \n",
       "4                      1                      0           0  \n",
       "..                   ...                    ...         ...  \n",
       "304                    1                      1           0  \n",
       "305                    1                      0           1  \n",
       "306                    0                      0           1  \n",
       "307                    1                      0           1  \n",
       "308                    0                      1           0  \n",
       "\n",
       "[309 rows x 14 columns]"
      ]
     },
     "metadata": {},
     "output_type": "display_data"
    }
   ],
   "source": [
    "##################################\n",
    "# Creating a dataset copy and\n",
    "# converting all values to numeric\n",
    "# for correlation analysis\n",
    "##################################\n",
    "lung_cancer_correlation = lung_cancer.copy()\n",
    "lung_cancer_correlation_object = lung_cancer_correlation.iloc[:,2:15].columns\n",
    "lung_cancer_correlation[lung_cancer_correlation_object] = lung_cancer_correlation[lung_cancer_correlation_object].replace({'Absent': 0, 'Present': 1})\n",
    "lung_cancer_correlation = lung_cancer_correlation.drop(['GENDER','LUNG_CANCER'], axis=1)\n",
    "display(lung_cancer_correlation)"
   ]
  },
  {
   "cell_type": "code",
   "execution_count": 72,
   "id": "d123b4b5-a3a9-4416-ba57-b036df9228f2",
   "metadata": {
    "tags": []
   },
   "outputs": [],
   "source": [
    "##################################\n",
    "# Initializing the correlation matrix\n",
    "##################################\n",
    "lung_cancer_correlation_matrix = pd.DataFrame(np.zeros((len(lung_cancer_correlation.columns), len(lung_cancer_correlation.columns))),\n",
    "                                              columns=lung_cancer_correlation.columns,\n",
    "                                              index=lung_cancer_correlation.columns)"
   ]
  },
  {
   "cell_type": "code",
   "execution_count": 73,
   "id": "20e270c5-6aee-4a88-928e-48e4cca8de20",
   "metadata": {
    "tags": []
   },
   "outputs": [],
   "source": [
    "##################################\n",
    "# Calculating different types\n",
    "# of correlation coefficients\n",
    "# per variable type\n",
    "##################################\n",
    "for i in range(len(lung_cancer_correlation.columns)):\n",
    "    for j in range(i, len(lung_cancer_correlation.columns)):\n",
    "        if i == j:\n",
    "            lung_cancer_correlation_matrix.iloc[i, j] = 1.0\n",
    "        else:\n",
    "            if lung_cancer_correlation.dtypes[i] == 'int64' and lung_cancer_correlation.dtypes[j] == 'int64':\n",
    "                # Pearson correlation for two continuous variables\n",
    "                corr = lung_cancer_correlation.iloc[:, i].corr(lung_cancer_correlation.iloc[:, j])\n",
    "            elif lung_cancer_correlation.dtypes[i] == 'int64' or lung_cancer_correlation.dtypes[j] == 'int64':\n",
    "                # Point-biserial correlation for one continuous and one binary variable\n",
    "                continuous_var = lung_cancer_correlation.iloc[:, i] if lung_cancer_correlation.dtypes[i] == 'int64' else lung_cancer_correlation.iloc[:, j]\n",
    "                binary_var = lung_cancer_correlation.iloc[:, j] if lung_cancer_correlation.dtypes[j] == 'int64' else lung_cancer_correlation.iloc[:, i]\n",
    "                corr, _ = pointbiserialr(continuous_var, binary_var)\n",
    "            else:\n",
    "                # Phi coefficient for two binary variables\n",
    "                corr = lung_cancer_correlation.iloc[:, i].corr(lung_cancer_correlation.iloc[:, j])\n",
    "            lung_cancer_correlation_matrix.iloc[i, j] = corr\n",
    "            lung_cancer_correlation_matrix.iloc[j, i] = corr"
   ]
  },
  {
   "cell_type": "code",
   "execution_count": 74,
   "id": "167f93bb-c5b2-4686-867b-7a631b017a89",
   "metadata": {
    "tags": []
   },
   "outputs": [
    {
     "data": {
      "image/png": "[encoded data removed]",
      "text/plain": [
       "<Figure size 1700x800 with 2 Axes>"
      ]
     },
     "metadata": {},
     "output_type": "display_data"
    }
   ],
   "source": [
    "##################################\n",
    "# Plotting the correlation matrix\n",
    "# for all pairwise combinations\n",
    "# of numeric and categorical columns\n",
    "##################################\n",
    "plt.figure(figsize=(17, 8))\n",
    "sns.heatmap(lung_cancer_correlation_matrix, annot=True, cmap='coolwarm', vmin=-1, vmax=1)\n",
    "plt.show()"
   ]
  },
  {
   "cell_type": "markdown",
   "id": "bf4d6ce4-7ad5-4311-ae4f-973b0c650148",
   "metadata": {},
   "source": [
    "## 1.5. Data Exploration <a class=\"anchor\" id=\"1.5\"></a>"
   ]
  },
  {
   "cell_type": "markdown",
   "id": "d6b6dbb2-f4e1-4eec-bdb8-2be3ff9d809c",
   "metadata": {},
   "source": [
    "### 1.5.1 Exploratory Data Analysis <a class=\"anchor\" id=\"1.5.1\"></a>"
   ]
  },
  {
   "cell_type": "code",
   "execution_count": 75,
   "id": "05fd8dd8-ee40-454e-b7ea-c70cdc174c88",
   "metadata": {
    "tags": []
   },
   "outputs": [],
   "source": [
    "##################################\n",
    "# Segregating the target\n",
    "# and predictor variables\n",
    "##################################\n",
    "lung_cancer_predictors = lung_cancer.iloc[:,:-1].columns\n",
    "lung_cancer_predictors_numeric = lung_cancer.iloc[:,:-1].loc[:,lung_cancer.iloc[:,:-1].columns == 'AGE'].columns\n",
    "lung_cancer_predictors_categorical = lung_cancer.iloc[:,:-1].loc[:,lung_cancer.iloc[:,:-1].columns != 'AGE'].columns"
   ]
  },
  {
   "cell_type": "code",
   "execution_count": 76,
   "id": "9823302b-6471-4b73-866c-c221a9848a7f",
   "metadata": {
    "tags": []
   },
   "outputs": [],
   "source": [
    "##################################\n",
    "# Segregating the target variable\n",
    "# and numeric predictors\n",
    "##################################\n",
    "boxplot_y_variable = 'LUNG_CANCER'\n",
    "boxplot_x_variable = lung_cancer_predictors_numeric.values[0]"
   ]
  },
  {
   "cell_type": "code",
   "execution_count": 77,
   "id": "0b7b94b8-badd-4353-8435-5a3c2ea9d33d",
   "metadata": {
    "tags": []
   },
   "outputs": [
    {
     "data": {
      "image/png": "[encoded data removed]",
      "text/plain": [
       "<Figure size 700x500 with 1 Axes>"
      ]
     },
     "metadata": {},
     "output_type": "display_data"
    }
   ],
   "source": [
    "##################################\n",
    "# Evaluating the numeric predictors\n",
    "# against the target variable\n",
    "##################################\n",
    "plt.figure(figsize=(7, 5))\n",
    "plt.boxplot([group[boxplot_x_variable] for name, group in lung_cancer.groupby(boxplot_y_variable)])\n",
    "plt.title(f'{boxplot_y_variable} Versus {boxplot_x_variable}')\n",
    "plt.xlabel(boxplot_y_variable)\n",
    "plt.ylabel(boxplot_x_variable)\n",
    "plt.xticks(range(1, len(lung_cancer[boxplot_y_variable].unique()) + 1), ['No', 'Yes'])\n",
    "plt.show()"
   ]
  },
  {
   "cell_type": "code",
   "execution_count": 78,
   "id": "5aa52676-0144-4f4c-9c46-ef996c722783",
   "metadata": {
    "tags": []
   },
   "outputs": [],
   "source": [
    "##################################\n",
    "# Segregating the target variable\n",
    "# and categorical predictors\n",
    "##################################\n",
    "proportion_y_variables = lung_cancer_predictors_categorical\n",
    "proportion_x_variable = 'LUNG_CANCER'"
   ]
  },
  {
   "cell_type": "code",
   "execution_count": 79,
   "id": "400deea9-47b7-4b6c-ac48-48f658c336cc",
   "metadata": {
    "tags": []
   },
   "outputs": [
    {
     "data": {
      "image/png": "[encoded data removed]",
      "text/plain": [
       "<Figure size 1500x4000 with 14 Axes>"
      ]
     },
     "metadata": {},
     "output_type": "display_data"
    }
   ],
   "source": [
    "##################################\n",
    "# Defining the number of \n",
    "# rows and columns for the subplots\n",
    "##################################\n",
    "num_rows = 7\n",
    "num_cols = 2\n",
    "\n",
    "##################################\n",
    "# Formulating the subplot structure\n",
    "##################################\n",
    "fig, axes = plt.subplots(num_rows, num_cols, figsize=(15, 40))\n",
    "\n",
    "##################################\n",
    "# Flattening the multi-row and\n",
    "# multi-column axes\n",
    "##################################\n",
    "axes = axes.ravel()\n",
    "\n",
    "##################################\n",
    "# Formulating the individual stacked column plots\n",
    "# for all categorical columns\n",
    "##################################\n",
    "for i, y_variable in enumerate(proportion_y_variables):\n",
    "    ax = axes[i]\n",
    "    category_counts = lung_cancer.groupby([proportion_x_variable, y_variable]).size().unstack(fill_value=0)\n",
    "    category_proportions = category_counts.div(category_counts.sum(axis=1), axis=0)\n",
    "    category_proportions.plot(kind='bar', stacked=True, ax=ax)\n",
    "    ax.set_title(f'{proportion_x_variable} Versus {y_variable}')\n",
    "    ax.set_xlabel(proportion_x_variable)\n",
    "    ax.set_ylabel('PROPORTIONS')\n",
    "    ax.legend(loc=\"lower center\")\n",
    "\n",
    "##################################\n",
    "# Adjusting the subplot layout\n",
    "##################################\n",
    "plt.tight_layout()\n",
    "\n",
    "##################################\n",
    "# Presenting the subplots\n",
    "##################################\n",
    "plt.show()"
   ]
  },
  {
   "cell_type": "markdown",
   "id": "0d7cd8de-3021-46b5-985d-295b551de16c",
   "metadata": {},
   "source": [
    "### 1.5.2 Exploratory Data Analysis <a class=\"anchor\" id=\"1.5.2\"></a>"
   ]
  },
  {
   "cell_type": "code",
   "execution_count": 80,
   "id": "b219427b-3b0d-4922-8484-15cbcae3ea8f",
   "metadata": {
    "tags": []
   },
   "outputs": [],
   "source": [
    "##################################\n",
    "# Computing the t-test \n",
    "# statistic and p-values\n",
    "# between the target variable\n",
    "# and numeric predictor columns\n",
    "##################################\n",
    "lung_cancer_numeric_ttest_target = {}\n",
    "lung_cancer_numeric = lung_cancer.loc[:,(lung_cancer.columns == 'AGE') | (lung_cancer.columns == 'LUNG_CANCER')]\n",
    "lung_cancer_numeric_columns = lung_cancer_predictors_numeric\n",
    "for numeric_column in lung_cancer_numeric_columns:\n",
    "    group_0 = lung_cancer_numeric[lung_cancer_numeric.loc[:,'LUNG_CANCER']=='NO']\n",
    "    group_1 = lung_cancer_numeric[lung_cancer_numeric.loc[:,'LUNG_CANCER']=='YES']\n",
    "    lung_cancer_numeric_ttest_target['LUNG_CANCER_' + numeric_column] = stats.ttest_ind(\n",
    "        group_0[numeric_column], \n",
    "        group_1[numeric_column], \n",
    "        equal_var=True)"
   ]
  },
  {
   "cell_type": "code",
   "execution_count": 81,
   "id": "13cdc844-64ae-45b0-96ee-99e29839bc3f",
   "metadata": {
    "tags": []
   },
   "outputs": [
    {
     "data": {
      "text/html": [
       "<div>\n",
       "<style scoped>\n",
       "    .dataframe tbody tr th:only-of-type {\n",
       "        vertical-align: middle;\n",
       "    }\n",
       "\n",
       "    .dataframe tbody tr th {\n",
       "        vertical-align: top;\n",
       "    }\n",
       "\n",
       "    .dataframe thead th {\n",
       "        text-align: right;\n",
       "    }\n",
       "</style>\n",
       "<table border=\"1\" class=\"dataframe\">\n",
       "  <thead>\n",
       "    <tr style=\"text-align: right;\">\n",
       "      <th></th>\n",
       "      <th>T.Test.Statistic</th>\n",
       "      <th>T.Test.PValue</th>\n",
       "    </tr>\n",
       "  </thead>\n",
       "  <tbody>\n",
       "    <tr>\n",
       "      <th>LUNG_CANCER_AGE</th>\n",
       "      <td>-1.573857</td>\n",
       "      <td>0.11655</td>\n",
       "    </tr>\n",
       "  </tbody>\n",
       "</table>\n",
       "</div>"
      ],
      "text/plain": [
       "                 T.Test.Statistic  T.Test.PValue\n",
       "LUNG_CANCER_AGE         -1.573857        0.11655"
      ]
     },
     "metadata": {},
     "output_type": "display_data"
    }
   ],
   "source": [
    "##################################\n",
    "# Formulating the pairwise ttest summary\n",
    "# between the target variable\n",
    "# and numeric predictor columns\n",
    "##################################\n",
    "lung_cancer_numeric_summary = lung_cancer_numeric.from_dict(lung_cancer_numeric_ttest_target, orient='index')\n",
    "lung_cancer_numeric_summary.columns = ['T.Test.Statistic', 'T.Test.PValue']\n",
    "display(lung_cancer_numeric_summary.sort_values(by=['T.Test.PValue'], ascending=True).head(len(lung_cancer_predictors_numeric)))"
   ]
  },
  {
   "cell_type": "code",
   "execution_count": 82,
   "id": "dbe76fbf-795b-4f6a-9029-733733fe4527",
   "metadata": {
    "tags": []
   },
   "outputs": [
    {
     "data": {
      "text/plain": [
       "Index(['GENDER', 'SMOKING', 'YELLOW_FINGERS', 'ANXIETY', 'PEER_PRESSURE',\n",
       "       'CHRONIC DISEASE', 'FATIGUE ', 'ALLERGY ', 'WHEEZING',\n",
       "       'ALCOHOL CONSUMING', 'COUGHING', 'SHORTNESS OF BREATH',\n",
       "       'SWALLOWING DIFFICULTY', 'CHEST PAIN'],\n",
       "      dtype='object')"
      ]
     },
     "execution_count": 82,
     "metadata": {},
     "output_type": "execute_result"
    }
   ],
   "source": [
    "lung_cancer_predictors_categorical"
   ]
  },
  {
   "cell_type": "code",
   "execution_count": 83,
   "id": "92252e41-edc2-4a14-9185-85543917f4ce",
   "metadata": {
    "tags": []
   },
   "outputs": [],
   "source": [
    "##################################\n",
    "# Computing the chisquare\n",
    "# statistic and p-values\n",
    "# between the target variable\n",
    "# and categorical predictor columns\n",
    "##################################\n",
    "lung_cancer_categorical_chisquare_target = {}\n",
    "lung_cancer_categorical = lung_cancer.loc[:,(lung_cancer.columns != 'AGE') | (lung_cancer.columns == 'LUNG_CANCER')]\n",
    "lung_cancer_categorical_columns = lung_cancer_predictors_categorical\n",
    "for categorical_column in lung_cancer_categorical_columns:\n",
    "    contingency_table = pd.crosstab(lung_cancer_categorical[categorical_column], \n",
    "                                    lung_cancer_categorical['LUNG_CANCER'])\n",
    "    lung_cancer_categorical_chisquare_target['LUNG_CANCER_' + categorical_column] = stats.chi2_contingency(\n",
    "        contingency_table)[0:2]"
   ]
  },
  {
   "cell_type": "code",
   "execution_count": 84,
   "id": "d7e6e49f-ae13-4c37-8ab4-7f0d5542f6e3",
   "metadata": {
    "tags": []
   },
   "outputs": [
    {
     "data": {
      "text/html": [
       "<div>\n",
       "<style scoped>\n",
       "    .dataframe tbody tr th:only-of-type {\n",
       "        vertical-align: middle;\n",
       "    }\n",
       "\n",
       "    .dataframe tbody tr th {\n",
       "        vertical-align: top;\n",
       "    }\n",
       "\n",
       "    .dataframe thead th {\n",
       "        text-align: right;\n",
       "    }\n",
       "</style>\n",
       "<table border=\"1\" class=\"dataframe\">\n",
       "  <thead>\n",
       "    <tr style=\"text-align: right;\">\n",
       "      <th></th>\n",
       "      <th>ChiSquare.Test.Statistic</th>\n",
       "      <th>ChiSquare.Test.PValue</th>\n",
       "    </tr>\n",
       "  </thead>\n",
       "  <tbody>\n",
       "    <tr>\n",
       "      <th>LUNG_CANCER_ALLERGY</th>\n",
       "      <td>31.238952</td>\n",
       "      <td>2.281422e-08</td>\n",
       "    </tr>\n",
       "    <tr>\n",
       "      <th>LUNG_CANCER_ALCOHOL CONSUMING</th>\n",
       "      <td>24.005406</td>\n",
       "      <td>9.606559e-07</td>\n",
       "    </tr>\n",
       "    <tr>\n",
       "      <th>LUNG_CANCER_SWALLOWING DIFFICULTY</th>\n",
       "      <td>19.307277</td>\n",
       "      <td>1.112814e-05</td>\n",
       "    </tr>\n",
       "    <tr>\n",
       "      <th>LUNG_CANCER_WHEEZING</th>\n",
       "      <td>17.723096</td>\n",
       "      <td>2.555055e-05</td>\n",
       "    </tr>\n",
       "    <tr>\n",
       "      <th>LUNG_CANCER_COUGHING</th>\n",
       "      <td>17.606122</td>\n",
       "      <td>2.717123e-05</td>\n",
       "    </tr>\n",
       "    <tr>\n",
       "      <th>LUNG_CANCER_CHEST PAIN</th>\n",
       "      <td>10.083198</td>\n",
       "      <td>1.496275e-03</td>\n",
       "    </tr>\n",
       "    <tr>\n",
       "      <th>LUNG_CANCER_PEER_PRESSURE</th>\n",
       "      <td>9.641594</td>\n",
       "      <td>1.902201e-03</td>\n",
       "    </tr>\n",
       "    <tr>\n",
       "      <th>LUNG_CANCER_YELLOW_FINGERS</th>\n",
       "      <td>9.088186</td>\n",
       "      <td>2.572659e-03</td>\n",
       "    </tr>\n",
       "    <tr>\n",
       "      <th>LUNG_CANCER_FATIGUE</th>\n",
       "      <td>6.081100</td>\n",
       "      <td>1.366356e-02</td>\n",
       "    </tr>\n",
       "    <tr>\n",
       "      <th>LUNG_CANCER_ANXIETY</th>\n",
       "      <td>5.648390</td>\n",
       "      <td>1.747141e-02</td>\n",
       "    </tr>\n",
       "    <tr>\n",
       "      <th>LUNG_CANCER_CHRONIC DISEASE</th>\n",
       "      <td>3.161200</td>\n",
       "      <td>7.540772e-02</td>\n",
       "    </tr>\n",
       "    <tr>\n",
       "      <th>LUNG_CANCER_GENDER</th>\n",
       "      <td>1.021545</td>\n",
       "      <td>3.121527e-01</td>\n",
       "    </tr>\n",
       "    <tr>\n",
       "      <th>LUNG_CANCER_SHORTNESS OF BREATH</th>\n",
       "      <td>0.790604</td>\n",
       "      <td>3.739175e-01</td>\n",
       "    </tr>\n",
       "    <tr>\n",
       "      <th>LUNG_CANCER_SMOKING</th>\n",
       "      <td>0.722513</td>\n",
       "      <td>3.953209e-01</td>\n",
       "    </tr>\n",
       "  </tbody>\n",
       "</table>\n",
       "</div>"
      ],
      "text/plain": [
       "                                   ChiSquare.Test.Statistic  \\\n",
       "LUNG_CANCER_ALLERGY                               31.238952   \n",
       "LUNG_CANCER_ALCOHOL CONSUMING                     24.005406   \n",
       "LUNG_CANCER_SWALLOWING DIFFICULTY                 19.307277   \n",
       "LUNG_CANCER_WHEEZING                              17.723096   \n",
       "LUNG_CANCER_COUGHING                              17.606122   \n",
       "LUNG_CANCER_CHEST PAIN                            10.083198   \n",
       "LUNG_CANCER_PEER_PRESSURE                          9.641594   \n",
       "LUNG_CANCER_YELLOW_FINGERS                         9.088186   \n",
       "LUNG_CANCER_FATIGUE                                6.081100   \n",
       "LUNG_CANCER_ANXIETY                                5.648390   \n",
       "LUNG_CANCER_CHRONIC DISEASE                        3.161200   \n",
       "LUNG_CANCER_GENDER                                 1.021545   \n",
       "LUNG_CANCER_SHORTNESS OF BREATH                    0.790604   \n",
       "LUNG_CANCER_SMOKING                                0.722513   \n",
       "\n",
       "                                   ChiSquare.Test.PValue  \n",
       "LUNG_CANCER_ALLERGY                         2.281422e-08  \n",
       "LUNG_CANCER_ALCOHOL CONSUMING               9.606559e-07  \n",
       "LUNG_CANCER_SWALLOWING DIFFICULTY           1.112814e-05  \n",
       "LUNG_CANCER_WHEEZING                        2.555055e-05  \n",
       "LUNG_CANCER_COUGHING                        2.717123e-05  \n",
       "LUNG_CANCER_CHEST PAIN                      1.496275e-03  \n",
       "LUNG_CANCER_PEER_PRESSURE                   1.902201e-03  \n",
       "LUNG_CANCER_YELLOW_FINGERS                  2.572659e-03  \n",
       "LUNG_CANCER_FATIGUE                         1.366356e-02  \n",
       "LUNG_CANCER_ANXIETY                         1.747141e-02  \n",
       "LUNG_CANCER_CHRONIC DISEASE                 7.540772e-02  \n",
       "LUNG_CANCER_GENDER                          3.121527e-01  \n",
       "LUNG_CANCER_SHORTNESS OF BREATH             3.739175e-01  \n",
       "LUNG_CANCER_SMOKING                         3.953209e-01  "
      ]
     },
     "metadata": {},
     "output_type": "display_data"
    }
   ],
   "source": [
    "##################################\n",
    "# Formulating the pairwise chisquare summary\n",
    "# between the target variable\n",
    "# and categorical predictor columns\n",
    "##################################\n",
    "lung_cancer_categorical_summary = lung_cancer_categorical.from_dict(lung_cancer_categorical_chisquare_target, orient='index')\n",
    "lung_cancer_categorical_summary.columns = ['ChiSquare.Test.Statistic', 'ChiSquare.Test.PValue']\n",
    "display(lung_cancer_categorical_summary.sort_values(by=['ChiSquare.Test.PValue'], ascending=True).head(len(lung_cancer_predictors_categorical)))"
   ]
  },
  {
   "cell_type": "markdown",
   "id": "04f987d8-e100-4bbb-9780-7591fd81958f",
   "metadata": {},
   "source": [
    "## 1.6. Predictive Model Development <a class=\"anchor\" id=\"1.6\"></a>"
   ]
  },
  {
   "cell_type": "markdown",
   "id": "481830df-900e-42e6-969b-5d44f9f1ea6b",
   "metadata": {},
   "source": [
    "### 1.6.1 Pre-Modelling Data Preparation <a class=\"anchor\" id=\"1.6.1\"></a>"
   ]
  },
  {
   "cell_type": "code",
   "execution_count": 85,
   "id": "bcb22e4d-8ee4-4194-912d-e723df9de5cb",
   "metadata": {
    "tags": []
   },
   "outputs": [
    {
     "data": {
      "text/html": [
       "<div>\n",
       "<style scoped>\n",
       "    .dataframe tbody tr th:only-of-type {\n",
       "        vertical-align: middle;\n",
       "    }\n",
       "\n",
       "    .dataframe tbody tr th {\n",
       "        vertical-align: top;\n",
       "    }\n",
       "\n",
       "    .dataframe thead th {\n",
       "        text-align: right;\n",
       "    }\n",
       "</style>\n",
       "<table border=\"1\" class=\"dataframe\">\n",
       "  <thead>\n",
       "    <tr style=\"text-align: right;\">\n",
       "      <th></th>\n",
       "      <th>GENDER</th>\n",
       "      <th>AGE</th>\n",
       "      <th>SMOKING</th>\n",
       "      <th>YELLOW_FINGERS</th>\n",
       "      <th>ANXIETY</th>\n",
       "      <th>PEER_PRESSURE</th>\n",
       "      <th>CHRONIC DISEASE</th>\n",
       "      <th>FATIGUE</th>\n",
       "      <th>ALLERGY</th>\n",
       "      <th>WHEEZING</th>\n",
       "      <th>ALCOHOL CONSUMING</th>\n",
       "      <th>COUGHING</th>\n",
       "      <th>SHORTNESS OF BREATH</th>\n",
       "      <th>SWALLOWING DIFFICULTY</th>\n",
       "      <th>CHEST PAIN</th>\n",
       "      <th>LUNG_CANCER</th>\n",
       "    </tr>\n",
       "  </thead>\n",
       "  <tbody>\n",
       "    <tr>\n",
       "      <th>0</th>\n",
       "      <td>1</td>\n",
       "      <td>69</td>\n",
       "      <td>0</td>\n",
       "      <td>1</td>\n",
       "      <td>1</td>\n",
       "      <td>0</td>\n",
       "      <td>0</td>\n",
       "      <td>1</td>\n",
       "      <td>0</td>\n",
       "      <td>1</td>\n",
       "      <td>1</td>\n",
       "      <td>1</td>\n",
       "      <td>1</td>\n",
       "      <td>1</td>\n",
       "      <td>1</td>\n",
       "      <td>1</td>\n",
       "    </tr>\n",
       "    <tr>\n",
       "      <th>1</th>\n",
       "      <td>1</td>\n",
       "      <td>74</td>\n",
       "      <td>1</td>\n",
       "      <td>0</td>\n",
       "      <td>0</td>\n",
       "      <td>0</td>\n",
       "      <td>1</td>\n",
       "      <td>1</td>\n",
       "      <td>1</td>\n",
       "      <td>0</td>\n",
       "      <td>0</td>\n",
       "      <td>0</td>\n",
       "      <td>1</td>\n",
       "      <td>1</td>\n",
       "      <td>1</td>\n",
       "      <td>1</td>\n",
       "    </tr>\n",
       "    <tr>\n",
       "      <th>2</th>\n",
       "      <td>0</td>\n",
       "      <td>59</td>\n",
       "      <td>0</td>\n",
       "      <td>0</td>\n",
       "      <td>0</td>\n",
       "      <td>1</td>\n",
       "      <td>0</td>\n",
       "      <td>1</td>\n",
       "      <td>0</td>\n",
       "      <td>1</td>\n",
       "      <td>0</td>\n",
       "      <td>1</td>\n",
       "      <td>1</td>\n",
       "      <td>0</td>\n",
       "      <td>1</td>\n",
       "      <td>0</td>\n",
       "    </tr>\n",
       "    <tr>\n",
       "      <th>3</th>\n",
       "      <td>1</td>\n",
       "      <td>63</td>\n",
       "      <td>1</td>\n",
       "      <td>1</td>\n",
       "      <td>1</td>\n",
       "      <td>0</td>\n",
       "      <td>0</td>\n",
       "      <td>0</td>\n",
       "      <td>0</td>\n",
       "      <td>0</td>\n",
       "      <td>1</td>\n",
       "      <td>0</td>\n",
       "      <td>0</td>\n",
       "      <td>1</td>\n",
       "      <td>1</td>\n",
       "      <td>0</td>\n",
       "    </tr>\n",
       "    <tr>\n",
       "      <th>4</th>\n",
       "      <td>0</td>\n",
       "      <td>63</td>\n",
       "      <td>0</td>\n",
       "      <td>1</td>\n",
       "      <td>0</td>\n",
       "      <td>0</td>\n",
       "      <td>0</td>\n",
       "      <td>0</td>\n",
       "      <td>0</td>\n",
       "      <td>1</td>\n",
       "      <td>0</td>\n",
       "      <td>1</td>\n",
       "      <td>1</td>\n",
       "      <td>0</td>\n",
       "      <td>0</td>\n",
       "      <td>0</td>\n",
       "    </tr>\n",
       "    <tr>\n",
       "      <th>...</th>\n",
       "      <td>...</td>\n",
       "      <td>...</td>\n",
       "      <td>...</td>\n",
       "      <td>...</td>\n",
       "      <td>...</td>\n",
       "      <td>...</td>\n",
       "      <td>...</td>\n",
       "      <td>...</td>\n",
       "      <td>...</td>\n",
       "      <td>...</td>\n",
       "      <td>...</td>\n",
       "      <td>...</td>\n",
       "      <td>...</td>\n",
       "      <td>...</td>\n",
       "      <td>...</td>\n",
       "      <td>...</td>\n",
       "    </tr>\n",
       "    <tr>\n",
       "      <th>304</th>\n",
       "      <td>0</td>\n",
       "      <td>56</td>\n",
       "      <td>0</td>\n",
       "      <td>0</td>\n",
       "      <td>0</td>\n",
       "      <td>1</td>\n",
       "      <td>1</td>\n",
       "      <td>1</td>\n",
       "      <td>0</td>\n",
       "      <td>0</td>\n",
       "      <td>1</td>\n",
       "      <td>1</td>\n",
       "      <td>1</td>\n",
       "      <td>1</td>\n",
       "      <td>0</td>\n",
       "      <td>1</td>\n",
       "    </tr>\n",
       "    <tr>\n",
       "      <th>305</th>\n",
       "      <td>1</td>\n",
       "      <td>70</td>\n",
       "      <td>1</td>\n",
       "      <td>0</td>\n",
       "      <td>0</td>\n",
       "      <td>0</td>\n",
       "      <td>0</td>\n",
       "      <td>1</td>\n",
       "      <td>1</td>\n",
       "      <td>1</td>\n",
       "      <td>1</td>\n",
       "      <td>1</td>\n",
       "      <td>1</td>\n",
       "      <td>0</td>\n",
       "      <td>1</td>\n",
       "      <td>1</td>\n",
       "    </tr>\n",
       "    <tr>\n",
       "      <th>306</th>\n",
       "      <td>1</td>\n",
       "      <td>58</td>\n",
       "      <td>1</td>\n",
       "      <td>0</td>\n",
       "      <td>0</td>\n",
       "      <td>0</td>\n",
       "      <td>0</td>\n",
       "      <td>0</td>\n",
       "      <td>1</td>\n",
       "      <td>1</td>\n",
       "      <td>1</td>\n",
       "      <td>1</td>\n",
       "      <td>0</td>\n",
       "      <td>0</td>\n",
       "      <td>1</td>\n",
       "      <td>1</td>\n",
       "    </tr>\n",
       "    <tr>\n",
       "      <th>307</th>\n",
       "      <td>1</td>\n",
       "      <td>67</td>\n",
       "      <td>1</td>\n",
       "      <td>0</td>\n",
       "      <td>1</td>\n",
       "      <td>0</td>\n",
       "      <td>0</td>\n",
       "      <td>1</td>\n",
       "      <td>1</td>\n",
       "      <td>0</td>\n",
       "      <td>1</td>\n",
       "      <td>1</td>\n",
       "      <td>1</td>\n",
       "      <td>0</td>\n",
       "      <td>1</td>\n",
       "      <td>1</td>\n",
       "    </tr>\n",
       "    <tr>\n",
       "      <th>308</th>\n",
       "      <td>1</td>\n",
       "      <td>62</td>\n",
       "      <td>0</td>\n",
       "      <td>0</td>\n",
       "      <td>0</td>\n",
       "      <td>1</td>\n",
       "      <td>0</td>\n",
       "      <td>1</td>\n",
       "      <td>1</td>\n",
       "      <td>1</td>\n",
       "      <td>1</td>\n",
       "      <td>0</td>\n",
       "      <td>0</td>\n",
       "      <td>1</td>\n",
       "      <td>0</td>\n",
       "      <td>1</td>\n",
       "    </tr>\n",
       "  </tbody>\n",
       "</table>\n",
       "<p>309 rows × 16 columns</p>\n",
       "</div>"
      ],
      "text/plain": [
       "    GENDER  AGE  SMOKING  YELLOW_FINGERS  ANXIETY  PEER_PRESSURE  \\\n",
       "0        1   69        0               1        1              0   \n",
       "1        1   74        1               0        0              0   \n",
       "2        0   59        0               0        0              1   \n",
       "3        1   63        1               1        1              0   \n",
       "4        0   63        0               1        0              0   \n",
       "..     ...  ...      ...             ...      ...            ...   \n",
       "304      0   56        0               0        0              1   \n",
       "305      1   70        1               0        0              0   \n",
       "306      1   58        1               0        0              0   \n",
       "307      1   67        1               0        1              0   \n",
       "308      1   62        0               0        0              1   \n",
       "\n",
       "     CHRONIC DISEASE  FATIGUE   ALLERGY   WHEEZING  ALCOHOL CONSUMING  \\\n",
       "0                  0         1         0         1                  1   \n",
       "1                  1         1         1         0                  0   \n",
       "2                  0         1         0         1                  0   \n",
       "3                  0         0         0         0                  1   \n",
       "4                  0         0         0         1                  0   \n",
       "..               ...       ...       ...       ...                ...   \n",
       "304                1         1         0         0                  1   \n",
       "305                0         1         1         1                  1   \n",
       "306                0         0         1         1                  1   \n",
       "307                0         1         1         0                  1   \n",
       "308                0         1         1         1                  1   \n",
       "\n",
       "     COUGHING  SHORTNESS OF BREATH  SWALLOWING DIFFICULTY  CHEST PAIN  \\\n",
       "0           1                    1                      1           1   \n",
       "1           0                    1                      1           1   \n",
       "2           1                    1                      0           1   \n",
       "3           0                    0                      1           1   \n",
       "4           1                    1                      0           0   \n",
       "..        ...                  ...                    ...         ...   \n",
       "304         1                    1                      1           0   \n",
       "305         1                    1                      0           1   \n",
       "306         1                    0                      0           1   \n",
       "307         1                    1                      0           1   \n",
       "308         0                    0                      1           0   \n",
       "\n",
       "    LUNG_CANCER  \n",
       "0             1  \n",
       "1             1  \n",
       "2             0  \n",
       "3             0  \n",
       "4             0  \n",
       "..          ...  \n",
       "304           1  \n",
       "305           1  \n",
       "306           1  \n",
       "307           1  \n",
       "308           1  \n",
       "\n",
       "[309 rows x 16 columns]"
      ]
     },
     "metadata": {},
     "output_type": "display_data"
    }
   ],
   "source": [
    "##################################\n",
    "# Creating a dataset copy and\n",
    "# transforming all values to numeric\n",
    "# prior to data splitting and modelling\n",
    "##################################\n",
    "lung_cancer_transformed = lung_cancer.copy()\n",
    "lung_cancer_transformed_object = lung_cancer_transformed.iloc[:,2:15].columns\n",
    "lung_cancer_transformed['GENDER'] = lung_cancer_transformed['GENDER'].replace({'F': 0, 'M': 1})\n",
    "lung_cancer_transformed['LUNG_CANCER'] = lung_cancer_transformed['LUNG_CANCER'].replace({'NO': 0, 'YES': 1})\n",
    "lung_cancer_transformed[lung_cancer_transformed_object] = lung_cancer_transformed[lung_cancer_transformed_object].replace({'Absent': 0, 'Present': 1})\n",
    "display(lung_cancer_transformed)"
   ]
  },
  {
   "cell_type": "code",
   "execution_count": 90,
   "id": "a15f8497-9256-462d-b13d-fc6f111f51bb",
   "metadata": {},
   "outputs": [],
   "source": [
    "##################################\n",
    "# Saving the tranformed data\n",
    "# to the DATASETS_PREPROCESSED_PATH\n",
    "##################################\n",
    "lung_cancer_transformed.to_csv(os.path.join(\"..\", DATASETS_PREPROCESSED_PATH, \"lung_cancer_transformed.csv\"), index=False)"
   ]
  },
  {
   "cell_type": "code",
   "execution_count": 148,
   "id": "a0c212fc-e64b-480e-8640-5e7f827c5bf5",
   "metadata": {
    "tags": []
   },
   "outputs": [],
   "source": [
    "##################################\n",
    "# Filtering out predictors that did not exhibit \n",
    "# sufficient discrimination of the target variable\n",
    "# Saving the tranformed data\n",
    "# to the DATASETS_PREPROCESSED_PATH\n",
    "##################################\n",
    "lung_cancer_filtered = lung_cancer_transformed.drop(['GENDER','CHRONIC DISEASE', 'SHORTNESS OF BREATH', 'SMOKING', 'AGE'], axis=1)\n",
    "lung_cancer_filtered.to_csv(os.path.join(\"..\", DATASETS_FINAL_PATH, \"lung_cancer_final.csv\"), index=False)"
   ]
  },
  {
   "cell_type": "markdown",
   "id": "efba8e00-7bb6-4eca-8a01-09c77357f7d4",
   "metadata": {},
   "source": [
    "### 1.6.2 Data Splitting <a class=\"anchor\" id=\"1.6.2\"></a>"
   ]
  },
  {
   "cell_type": "code",
   "execution_count": 92,
   "id": "7a2dfdfd-f1a5-4f73-9dc7-e545070c0f1f",
   "metadata": {
    "tags": []
   },
   "outputs": [],
   "source": [
    "##################################\n",
    "# Creating a dataset copy\n",
    "# of the filtered data\n",
    "##################################\n",
    "lung_cancer_final = lung_cancer_filtered.copy()"
   ]
  },
  {
   "cell_type": "code",
   "execution_count": 97,
   "id": "26137eaa-a6bc-4d69-ab9d-0d68a2caf683",
   "metadata": {
    "tags": []
   },
   "outputs": [
    {
     "name": "stdout",
     "output_type": "stream",
     "text": [
      "Final Dataset Dimensions: \n"
     ]
    },
    {
     "data": {
      "text/plain": [
       "(309, 11)"
      ]
     },
     "metadata": {},
     "output_type": "display_data"
    }
   ],
   "source": [
    "##################################\n",
    "# Performing a general exploration\n",
    "# of the final dataset\n",
    "##################################\n",
    "print('Final Dataset Dimensions: ')\n",
    "display(lung_cancer_final.shape)"
   ]
  },
  {
   "cell_type": "code",
   "execution_count": 98,
   "id": "b56ee2c6-3e54-4aa0-9ab3-24d357fc56f0",
   "metadata": {
    "tags": []
   },
   "outputs": [
    {
     "name": "stdout",
     "output_type": "stream",
     "text": [
      "Target Variable Breakdown: \n"
     ]
    },
    {
     "data": {
      "text/html": [
       "<div>\n",
       "<style scoped>\n",
       "    .dataframe tbody tr th:only-of-type {\n",
       "        vertical-align: middle;\n",
       "    }\n",
       "\n",
       "    .dataframe tbody tr th {\n",
       "        vertical-align: top;\n",
       "    }\n",
       "\n",
       "    .dataframe thead th {\n",
       "        text-align: right;\n",
       "    }\n",
       "</style>\n",
       "<table border=\"1\" class=\"dataframe\">\n",
       "  <thead>\n",
       "    <tr style=\"text-align: right;\">\n",
       "      <th></th>\n",
       "      <th>LUNG_CANCER</th>\n",
       "      <th>Count</th>\n",
       "      <th>Percentage</th>\n",
       "    </tr>\n",
       "  </thead>\n",
       "  <tbody>\n",
       "    <tr>\n",
       "      <th>0</th>\n",
       "      <td>0</td>\n",
       "      <td>39</td>\n",
       "      <td>12.621359</td>\n",
       "    </tr>\n",
       "    <tr>\n",
       "      <th>1</th>\n",
       "      <td>1</td>\n",
       "      <td>270</td>\n",
       "      <td>87.378641</td>\n",
       "    </tr>\n",
       "  </tbody>\n",
       "</table>\n",
       "</div>"
      ],
      "text/plain": [
       "  LUNG_CANCER  Count  Percentage\n",
       "0           0     39   12.621359\n",
       "1           1    270   87.378641"
      ]
     },
     "metadata": {},
     "output_type": "display_data"
    }
   ],
   "source": [
    "print('Target Variable Breakdown: ')\n",
    "lung_cancer_breakdown = lung_cancer_final.groupby('LUNG_CANCER').size().reset_index(name='Count')\n",
    "lung_cancer_breakdown['Percentage'] = (lung_cancer_breakdown['Count'] / len(lung_cancer_final)) * 100\n",
    "display(lung_cancer_breakdown)"
   ]
  },
  {
   "cell_type": "code",
   "execution_count": 135,
   "id": "809cb33a-0133-4e11-8cb3-93e3f9b15bf1",
   "metadata": {
    "tags": []
   },
   "outputs": [],
   "source": [
    "##################################\n",
    "# Separating the target \n",
    "# and predictor columns\n",
    "##################################\n",
    "X = lung_cancer_final.drop('LUNG_CANCER', axis = 1)\n",
    "y = lung_cancer_final['LUNG_CANCER']"
   ]
  },
  {
   "cell_type": "code",
   "execution_count": 136,
   "id": "3892a642-e0e0-486f-adf2-537e0fbb5aac",
   "metadata": {
    "tags": []
   },
   "outputs": [],
   "source": [
    "##################################\n",
    "# Formulating the train and test data\n",
    "# from the final dataset\n",
    "# by applying stratification and\n",
    "# using a 70-30 ratio\n",
    "##################################\n",
    "X_train_initial, X_test, y_train_initial, y_test = train_test_split(X, y, test_size=0.20, stratify=y, random_state=88888888)"
   ]
  },
  {
   "cell_type": "code",
   "execution_count": 137,
   "id": "e5c14120-e292-4f43-ab46-b40765a4791d",
   "metadata": {
    "tags": []
   },
   "outputs": [
    {
     "name": "stdout",
     "output_type": "stream",
     "text": [
      "Training Dataset Dimensions: \n"
     ]
    },
    {
     "data": {
      "text/plain": [
       "(247, 10)"
      ]
     },
     "metadata": {},
     "output_type": "display_data"
    },
    {
     "data": {
      "text/plain": [
       "(247,)"
      ]
     },
     "metadata": {},
     "output_type": "display_data"
    },
    {
     "name": "stdout",
     "output_type": "stream",
     "text": [
      "Training Target Variable Breakdown: \n"
     ]
    },
    {
     "data": {
      "text/plain": [
       "1    0.874494\n",
       "0    0.125506\n",
       "Name: LUNG_CANCER, dtype: float64"
      ]
     },
     "metadata": {},
     "output_type": "display_data"
    }
   ],
   "source": [
    "##################################\n",
    "# Performing a general exploration\n",
    "# of the initial training dataset\n",
    "##################################\n",
    "print('Training Dataset Dimensions: ')\n",
    "display(X_train_initial.shape)\n",
    "display(y_train_initial.shape)\n",
    "print('Training Target Variable Breakdown: ')\n",
    "display(y_train_initial.value_counts(normalize = True))"
   ]
  },
  {
   "cell_type": "code",
   "execution_count": 138,
   "id": "41b0e468-a3ed-4ef0-ae7b-2722a1da5e32",
   "metadata": {
    "tags": []
   },
   "outputs": [
    {
     "name": "stdout",
     "output_type": "stream",
     "text": [
      "Test Dataset Dimensions: \n"
     ]
    },
    {
     "data": {
      "text/plain": [
       "(62, 10)"
      ]
     },
     "metadata": {},
     "output_type": "display_data"
    },
    {
     "data": {
      "text/plain": [
       "(62,)"
      ]
     },
     "metadata": {},
     "output_type": "display_data"
    },
    {
     "name": "stdout",
     "output_type": "stream",
     "text": [
      "Test Target Variable Breakdown: \n"
     ]
    },
    {
     "data": {
      "text/plain": [
       "1    0.870968\n",
       "0    0.129032\n",
       "Name: LUNG_CANCER, dtype: float64"
      ]
     },
     "metadata": {},
     "output_type": "display_data"
    }
   ],
   "source": [
    "##################################\n",
    "# Performing a general exploration\n",
    "# of the test dataset\n",
    "##################################\n",
    "print('Test Dataset Dimensions: ')\n",
    "display(X_test.shape)\n",
    "display(y_test.shape)\n",
    "print('Test Target Variable Breakdown: ')\n",
    "display(y_test.value_counts(normalize = True))"
   ]
  },
  {
   "cell_type": "code",
   "execution_count": 140,
   "id": "5898b960-81d8-4d6c-938d-84a24526d2ab",
   "metadata": {
    "tags": []
   },
   "outputs": [],
   "source": [
    "##################################\n",
    "# Formulating the train and validation data\n",
    "# from the train dataset\n",
    "# by applying stratification and\n",
    "# using a 70-30 ratio\n",
    "##################################\n",
    "X_train, X_validation, y_train, y_validation = train_test_split(X_train_initial, y_train_initial, test_size=0.20, random_state=88888888)"
   ]
  },
  {
   "cell_type": "code",
   "execution_count": 142,
   "id": "1f62231a-52f0-4d88-8305-22a4278e973d",
   "metadata": {
    "tags": []
   },
   "outputs": [
    {
     "name": "stdout",
     "output_type": "stream",
     "text": [
      "Training Dataset Dimensions: \n"
     ]
    },
    {
     "data": {
      "text/plain": [
       "(197, 10)"
      ]
     },
     "metadata": {},
     "output_type": "display_data"
    },
    {
     "data": {
      "text/plain": [
       "(197,)"
      ]
     },
     "metadata": {},
     "output_type": "display_data"
    },
    {
     "name": "stdout",
     "output_type": "stream",
     "text": [
      "Training Target Variable Breakdown: \n"
     ]
    },
    {
     "data": {
      "text/plain": [
       "1    0.873096\n",
       "0    0.126904\n",
       "Name: LUNG_CANCER, dtype: float64"
      ]
     },
     "metadata": {},
     "output_type": "display_data"
    }
   ],
   "source": [
    "##################################\n",
    "# Performing a general exploration\n",
    "# of the final training dataset\n",
    "##################################\n",
    "print('Training Dataset Dimensions: ')\n",
    "display(X_train.shape)\n",
    "display(y_train.shape)\n",
    "print('Training Target Variable Breakdown: ')\n",
    "display(y_train.value_counts(normalize = True))"
   ]
  },
  {
   "cell_type": "code",
   "execution_count": 143,
   "id": "a9194cc0-0fae-4620-9266-5f3bfc74bf90",
   "metadata": {
    "tags": []
   },
   "outputs": [
    {
     "name": "stdout",
     "output_type": "stream",
     "text": [
      "Validation Dataset Dimensions: \n"
     ]
    },
    {
     "data": {
      "text/plain": [
       "(50, 10)"
      ]
     },
     "metadata": {},
     "output_type": "display_data"
    },
    {
     "data": {
      "text/plain": [
       "(50,)"
      ]
     },
     "metadata": {},
     "output_type": "display_data"
    },
    {
     "name": "stdout",
     "output_type": "stream",
     "text": [
      "Validation Target Variable Breakdown: \n"
     ]
    },
    {
     "data": {
      "text/plain": [
       "1    0.88\n",
       "0    0.12\n",
       "Name: LUNG_CANCER, dtype: float64"
      ]
     },
     "metadata": {},
     "output_type": "display_data"
    }
   ],
   "source": [
    "##################################\n",
    "# Performing a general exploration\n",
    "# of the validation dataset\n",
    "##################################\n",
    "print('Validation Dataset Dimensions: ')\n",
    "display(X_validation.shape)\n",
    "display(y_validation.shape)\n",
    "print('Validation Target Variable Breakdown: ')\n",
    "display(y_validation.value_counts(normalize = True))"
   ]
  },
  {
   "cell_type": "code",
   "execution_count": 145,
   "id": "7eb24282-896c-43dd-8973-e87b48135da7",
   "metadata": {
    "tags": []
   },
   "outputs": [],
   "source": [
    "##################################\n",
    "# Saving the training data\n",
    "# to the DATASETS_FINAL_TRAIN_FEATURES_PATH\n",
    "# and DATASETS_FINAL_TRAIN_TARGET_PATH\n",
    "##################################\n",
    "X_train.to_csv(os.path.join(\"..\", DATASETS_FINAL_TRAIN_FEATURES_PATH, \"X_train.csv\"), index=False)\n",
    "y_train.to_csv(os.path.join(\"..\", DATASETS_FINAL_TRAIN_TARGET_PATH, \"y_train.csv\"), index=False)"
   ]
  },
  {
   "cell_type": "code",
   "execution_count": 146,
   "id": "de1d8b1b-0389-4ddb-950d-a17a441c875c",
   "metadata": {
    "tags": []
   },
   "outputs": [],
   "source": [
    "##################################\n",
    "# Saving the validation data\n",
    "# to the DATASETS_FINAL_VALIDATION_FEATURES_PATH\n",
    "# and DATASETS_FINAL_VALIDATION_TARGET_PATH\n",
    "##################################\n",
    "X_validation.to_csv(os.path.join(\"..\", DATASETS_FINAL_VALIDATION_FEATURES_PATH, \"X_validation.csv\"), index=False)\n",
    "y_validation.to_csv(os.path.join(\"..\", DATASETS_FINAL_VALIDATION_TARGET_PATH, \"y_validation.csv\"), index=False)"
   ]
  },
  {
   "cell_type": "code",
   "execution_count": 147,
   "id": "818e73cc-f129-407f-8f72-7c2e664cc6d6",
   "metadata": {
    "tags": []
   },
   "outputs": [],
   "source": [
    "##################################\n",
    "# Saving the test data\n",
    "# to the DATASETS_FINAL_TEST_FEATURES_PATH\n",
    "# and DATASETS_FINAL_TEST_TARGET_PATH\n",
    "##################################\n",
    "X_test.to_csv(os.path.join(\"..\", DATASETS_FINAL_TEST_FEATURES_PATH, \"X_test.csv\"), index=False)\n",
    "y_test.to_csv(os.path.join(\"..\", DATASETS_FINAL_TEST_TARGET_PATH, \"y_test.csv\"), index=False)"
   ]
  },
  {
   "cell_type": "markdown",
   "id": "77af8174-f313-48fc-9326-a4cbad7ff05b",
   "metadata": {},
   "source": [
    "### 1.6.3 Modelling Pipeline Development <a class=\"anchor\" id=\"1.6.3\"></a>"
   ]
  },
  {
   "cell_type": "markdown",
   "id": "01d7fef0-e29b-48d7-b4df-b4c42ac9c1ea",
   "metadata": {},
   "source": [
    "### 1.6.4 Model Hyperparameter Tuning <a class=\"anchor\" id=\"1.6.4\"></a>"
   ]
  },
  {
   "cell_type": "markdown",
   "id": "42c7be2c-5127-4e3c-a637-580a9ff448f4",
   "metadata": {},
   "source": [
    "### 1.6.5 Model Validation <a class=\"anchor\" id=\"1.6.5\"></a>"
   ]
  },
  {
   "cell_type": "markdown",
   "id": "d31e6239-a0c6-4746-9d3d-df0593f709dd",
   "metadata": {},
   "source": [
    "### 1.6.6 Model Testing <a class=\"anchor\" id=\"1.6.6\"></a>"
   ]
  },
  {
   "cell_type": "markdown",
   "id": "933a2f09-3ac8-4841-ae11-7f757f8de7d3",
   "metadata": {},
   "source": [
    "### 1.6.7 Model Inference <a class=\"anchor\" id=\"1.6.7\"></a>"
   ]
  },
  {
   "cell_type": "code",
   "execution_count": 87,
   "id": "08040fb1-6764-4eac-bc86-65ac3e8bdae3",
   "metadata": {
    "tags": []
   },
   "outputs": [
    {
     "data": {
      "text/html": [
       "<style>.rendered_html { font-size: 15px; font-family: 'Trebuchet MS'; }</style>"
      ],
      "text/plain": [
       "<IPython.core.display.HTML object>"
      ]
     },
     "metadata": {},
     "output_type": "display_data"
    }
   ],
   "source": [
    "from IPython.display import display, HTML\n",
    "display(HTML(\"<style>.rendered_html { font-size: 15px; font-family: 'Trebuchet MS'; }</style>\"))"
   ]
  }
 ],
 "metadata": {
  "kernelspec": {
   "display_name": "Python 3 (ipykernel)",
   "language": "python",
   "name": "python3"
  },
  "language_info": {
   "codemirror_mode": {
    "name": "ipython",
    "version": 3
   },
   "file_extension": ".py",
   "mimetype": "text/x-python",
   "name": "python",
   "nbconvert_exporter": "python",
   "pygments_lexer": "ipython3",
   "version": "3.11.4"
  }
 },
 "nbformat": 4,
 "nbformat_minor": 5
}
